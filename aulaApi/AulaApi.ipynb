{
  "cells": [
    {
      "cell_type": "markdown",
      "metadata": {
        "id": "Yz2CbK9lQhR8"
      },
      "source": []
    },
    {
      "cell_type": "markdown",
      "metadata": {
        "id": "vNI8OXrUNlc-"
      },
      "source": [
        "# Aula API"
      ]
    },
    {
      "cell_type": "markdown",
      "metadata": {
        "id": "VEWv5G1MQdsl"
      },
      "source": [
        "# Api pokemon\n",
        "- URL: \"https://pokeapi.co/api/v2/pokemon/1\"\n",
        "- Documentação: https://pokeapi.co/docs/v2#pokemon\n"
      ]
    },
    {
      "cell_type": "code",
      "execution_count": 1,
      "metadata": {
        "colab": {
          "base_uri": "https://localhost:8080/"
        },
        "id": "95krCaBGNrLf",
        "outputId": "27a58e62-d1c3-4ca1-f92d-33bb1f79f406"
      },
      "outputs": [
        {
          "name": "stdout",
          "output_type": "stream",
          "text": [
            "Nome: pikachu\n",
            "ID: 25\n",
            "Altura: 4\n",
            "Peso: 60\n",
            "Tipos:\n",
            "- electric\n"
          ]
        }
      ],
      "source": [
        "# Importando bibliotecas\n",
        "import requests\n",
        "\n",
        "# Definir a variavel URL\n",
        "url = \"https://pokeapi.co/api/v2/pokemon/pikachu\"\n",
        "\n",
        "# Realizando a requisição e guardando a resposta\n",
        "response = requests.get(url)\n",
        "\n",
        "if response.status_code == 200:\n",
        "  data = response.json()\n",
        "\n",
        "  print(f\"Nome: {data['name']}\")\n",
        "  print(f\"ID: {data['id']}\")\n",
        "  print(f\"Altura: {data['height']}\")\n",
        "  print(f\"Peso: {data['weight']}\")\n",
        "  print(\"Tipos:\")\n",
        "  for tipo in data['types']:\n",
        "    print(f\"- {tipo['type']['name']}\")"
      ]
    },
    {
      "cell_type": "markdown",
      "metadata": {
        "id": "zZKkXdY8QubM"
      },
      "source": [
        "# API The Dog ( API privada )\n"
      ]
    },
    {
      "cell_type": "markdown",
      "metadata": {
        "id": "TsRf3_NDQ7qD"
      },
      "source": [
        "## Chave: live_hLCEa4zITigYgj4bps2yHVuSziP48eCaSfb8r3nYKoOozEULGyWqOTJw4w1Uc5NW              "
      ]
    },
    {
      "cell_type": "code",
      "execution_count": 3,
      "metadata": {
        "colab": {
          "base_uri": "https://localhost:8080/",
          "height": 0
        },
        "id": "lzKoTWSTRBr4",
        "outputId": "4dc05473-baf5-4603-93ed-9110fdf28862"
      },
      "outputs": [
        {
          "name": "stdout",
          "output_type": "stream",
          "text": [
            "[{'id': 'wRP-CQQJy', 'url': 'https://cdn2.thedogapi.com/images/wRP-CQQJy.jpg', 'width': 1080, 'height': 1308}]\n"
          ]
        }
      ],
      "source": [
        "#importando bibliotecas\n",
        "import requests\n",
        "\n",
        "#definir a chave da API\n",
        "api_key = \"live_hLCEa4zITigYgj4bps2yHVuSziP48eCaSfb8r3nYKoOozEULGyWqOTJw4w1Uc5NW\"\n",
        "\n",
        "# Definir a URL para cachorros\n",
        "url = f\"https://api.thedogapi.com/v1/images/search?apikey={api_key}\" # Cachorros\n",
        "\n",
        "# Definir a URL para gatos\n",
        "# url = f\"https://api.thecatapi.com/v1/images/cii?apikey={api_key}\" # Expecificos pelo id: cii\n",
        "# url = f\"https://api.thecatapi.com/v1/images/search?apikey={api_key}\" # Aleatórios\n",
        "\n",
        "response = requests.get(url)\n",
        "\n",
        "if response.status_code == 200:\n",
        "  data = response.json()\n",
        "  print(data)"
      ]
    },
    {
      "cell_type": "markdown",
      "metadata": {
        "id": "2R9KCfbrQ_v4"
      },
      "source": []
    },
    {
      "cell_type": "markdown",
      "metadata": {
        "id": "r2AM2gk5Vuxv"
      },
      "source": [
        "# API NASA\n",
        "- chave: 93XcsvH8dQRboSblD1V7Qcs1uuyMciUcSTVhtcM5"
      ]
    },
    {
      "cell_type": "markdown",
      "metadata": {
        "id": "3GzXAiZ8Vuv-"
      },
      "source": []
    },
    {
      "cell_type": "code",
      "execution_count": 4,
      "metadata": {
        "colab": {
          "base_uri": "https://localhost:8080/",
          "height": 0
        },
        "id": "_0XP4Nn0ZKrr",
        "outputId": "71502f8a-7198-450c-ab17-68bcfaea95cf"
      },
      "outputs": [
        {
          "name": "stdout",
          "output_type": "stream",
          "text": [
            "{'date': '2024-09-13', 'explanation': \"This snapshot from the International Space Station was taken on August 11 while orbiting about 430 kilometers above the Indian Ocean, Southern Hemisphere, planet Earth. The spectacular view looks south and east, down toward the planet's horizon and through red and green curtains of aurora australis. The auroral glow is caused by emission from excited oxygen atoms in the extremely rarefied upper atmosphere still present at the level of the orbiting outpost. Green emission from atomic oxygen dominates this scene at altitudes of 100 to 250 kilometers, while red emission from atomic oxygen can extend as high as 500 kilometers altitude. Beyond the glow of these southern lights, this view from low Earth orbit reveals the starry sky from a southern hemisphere perspective. Stars in Orion's belt and the Orion Nebula are near the Earth's limb just left of center. Sirius, alpha star of Canis Major and brightest star in planet Earth's night is above center along the right edge of the southern orbital skyscape.  Looking Up: International Observe the Moon Night\", 'hdurl': 'https://apod.nasa.gov/apod/image/2409/iss071e564695_4096.jpg', 'media_type': 'image', 'service_version': 'v1', 'title': 'Aurora Australis and the International Space Station', 'url': 'https://apod.nasa.gov/apod/image/2409/iss071e564695_1024.jpg'}\n"
          ]
        }
      ],
      "source": [
        "import requests\n",
        "\n",
        "api_key = \"93XcsvH8dQRboSblD1V7Qcs1uuyMciUcSTVhtcM5\"\n",
        "\n",
        "endpoint = \"/planetary/apod\" # Astronomy Picture Of Day -> Fotografia astronomica do dia\n",
        "\n",
        "url = f\"https://api.nasa.gov{endpoint}?api_key={api_key}\"\n",
        "\n",
        "response = requests.get(url)\n",
        "\n",
        "if response.status_code == 200:\n",
        "  data = response.json()\n",
        "\n",
        "print(data)\n"
      ]
    },
    {
      "cell_type": "markdown",
      "metadata": {
        "id": "MW30K3ReamRQ"
      },
      "source": [
        "# API Star Wars"
      ]
    },
    {
      "cell_type": "code",
      "execution_count": 5,
      "metadata": {
        "colab": {
          "base_uri": "https://localhost:8080/",
          "height": 0
        },
        "id": "5I-GbMsqar23",
        "outputId": "9f7bc1e1-4c45-40e4-dcc3-2204d63e0491"
      },
      "outputs": [
        {
          "name": "stdout",
          "output_type": "stream",
          "text": [
            "\n",
            "=#=#=#=#=#=#=#=#=#=#=#=#=#=#=#=#=#=#=#=#=#=#=#=#=#=#=#=#=#=#\n",
            "Nome: Luke Skywalker\n",
            "Gênero: male\n",
            "Altura: 172\n",
            "Peso: 77\n",
            "Participação em: \n",
            "- A New Hope\n",
            "- The Empire Strikes Back\n",
            "- Return of the Jedi\n",
            "- Revenge of the Sith\n",
            "\n",
            "=#=#=#=#=#=#=#=#=#=#=#=#=#=#=#=#=#=#=#=#=#=#=#=#=#=#=#=#=#=#\n",
            "Nome: C-3PO\n",
            "Gênero: n/a\n",
            "Altura: 167\n",
            "Peso: 75\n",
            "Participação em: \n",
            "- A New Hope\n",
            "- The Empire Strikes Back\n",
            "- Return of the Jedi\n",
            "- The Phantom Menace\n",
            "- Attack of the Clones\n",
            "- Revenge of the Sith\n",
            "\n",
            "=#=#=#=#=#=#=#=#=#=#=#=#=#=#=#=#=#=#=#=#=#=#=#=#=#=#=#=#=#=#\n",
            "Nome: R2-D2\n",
            "Gênero: n/a\n",
            "Altura: 96\n",
            "Peso: 32\n",
            "Participação em: \n",
            "- A New Hope\n",
            "- The Empire Strikes Back\n",
            "- Return of the Jedi\n",
            "- The Phantom Menace\n",
            "- Attack of the Clones\n",
            "- Revenge of the Sith\n",
            "\n",
            "=#=#=#=#=#=#=#=#=#=#=#=#=#=#=#=#=#=#=#=#=#=#=#=#=#=#=#=#=#=#\n",
            "Nome: Darth Vader\n",
            "Gênero: male\n",
            "Altura: 202\n",
            "Peso: 136\n",
            "Participação em: \n",
            "- A New Hope\n",
            "- The Empire Strikes Back\n",
            "- Return of the Jedi\n",
            "- Revenge of the Sith\n",
            "\n",
            "=#=#=#=#=#=#=#=#=#=#=#=#=#=#=#=#=#=#=#=#=#=#=#=#=#=#=#=#=#=#\n",
            "Nome: Leia Organa\n",
            "Gênero: female\n",
            "Altura: 150\n",
            "Peso: 49\n",
            "Participação em: \n",
            "- A New Hope\n",
            "- The Empire Strikes Back\n",
            "- Return of the Jedi\n",
            "- Revenge of the Sith\n",
            "\n",
            "=#=#=#=#=#=#=#=#=#=#=#=#=#=#=#=#=#=#=#=#=#=#=#=#=#=#=#=#=#=#\n",
            "Nome: Owen Lars\n",
            "Gênero: male\n",
            "Altura: 178\n",
            "Peso: 120\n",
            "Participação em: \n",
            "- A New Hope\n",
            "- Attack of the Clones\n",
            "- Revenge of the Sith\n",
            "\n",
            "=#=#=#=#=#=#=#=#=#=#=#=#=#=#=#=#=#=#=#=#=#=#=#=#=#=#=#=#=#=#\n",
            "Nome: Beru Whitesun lars\n",
            "Gênero: female\n",
            "Altura: 165\n",
            "Peso: 75\n",
            "Participação em: \n",
            "- A New Hope\n",
            "- Attack of the Clones\n",
            "- Revenge of the Sith\n",
            "\n",
            "=#=#=#=#=#=#=#=#=#=#=#=#=#=#=#=#=#=#=#=#=#=#=#=#=#=#=#=#=#=#\n",
            "Nome: R5-D4\n",
            "Gênero: n/a\n",
            "Altura: 97\n",
            "Peso: 32\n",
            "Participação em: \n",
            "- A New Hope\n",
            "\n",
            "=#=#=#=#=#=#=#=#=#=#=#=#=#=#=#=#=#=#=#=#=#=#=#=#=#=#=#=#=#=#\n",
            "Nome: Biggs Darklighter\n",
            "Gênero: male\n",
            "Altura: 183\n",
            "Peso: 84\n",
            "Participação em: \n",
            "- A New Hope\n",
            "\n",
            "=#=#=#=#=#=#=#=#=#=#=#=#=#=#=#=#=#=#=#=#=#=#=#=#=#=#=#=#=#=#\n",
            "Nome: Obi-Wan Kenobi\n",
            "Gênero: male\n",
            "Altura: 182\n",
            "Peso: 77\n",
            "Participação em: \n",
            "- A New Hope\n",
            "- The Empire Strikes Back\n",
            "- Return of the Jedi\n",
            "- The Phantom Menace\n",
            "- Attack of the Clones\n",
            "- Revenge of the Sith\n"
          ]
        }
      ],
      "source": [
        "import requests\n",
        "\n",
        "endpoints = \"/people\" # Pessoas\n",
        "\n",
        "url = f\"https://swapi.dev/api{endpoints}\"\n",
        "\n",
        "response = requests.get(url)\n",
        "\n",
        "if response.status_code == 200:\n",
        "  data = response.json()\n",
        "\n",
        "for pessoa in data[\"results\"]:\n",
        "    print(\"\\n\"+\"=#\"* 30)\n",
        "    print(f\"Nome: {pessoa['name']}\")\n",
        "    print(f\"Gênero: {pessoa['gender']}\")\n",
        "    print(f\"Altura: {pessoa['height']}\")\n",
        "    print(f\"Peso: {pessoa['mass']}\")\n",
        "    print(\"Participação em: \")\n",
        "    for filme_url in pessoa['films']:\n",
        "      response_filme = requests.get(filme_url)\n",
        "      filme = response_filme.json()\n",
        "      print(f\"- {filme['title']}\")\n",
        "\n",
        "#   print(pessoa['vehicles'])\n"
      ]
    },
    {
      "cell_type": "markdown",
      "metadata": {
        "id": "1cF5zNuEreOf"
      },
      "source": [
        "# Atividade: Fazer o mesmo resultado de 'films' em 'vehicles'"
      ]
    },
    {
      "cell_type": "markdown",
      "metadata": {
        "id": "dYuOQXRprtVW"
      },
      "source": [
        "API TRIVIA"
      ]
    },
    {
      "cell_type": "code",
      "execution_count": 49,
      "metadata": {
        "colab": {
          "base_uri": "https://localhost:8080/",
          "height": 0
        },
        "id": "-RQxnlfBr3V9",
        "outputId": "5644743f-1a26-47ae-bd36-7cccec6c30cd"
      },
      "outputs": [
        {
          "name": "stdout",
          "output_type": "stream",
          "text": [
            "Pergunta: &quot;Santa Claus&quot; is a variety of melon.\n",
            "Pergunta: Haggis is traditionally ate on Burns Night.\n",
            "Pergunta: When you cry in space, your tears stick to your face.\n",
            "Pergunta: Kissing someone for one minute burns about 2 calories.\n",
            "Pergunta: The term &quot;Spam&quot; came before the food product &quot;Spam&quot;.\n",
            "Pergunta: &quot;Typewriter&quot; is the longest word that can be typed using only the first row on a QWERTY keyboard.\n",
            "Pergunta: &quot;27 Club&quot; is a term used to refer to a list of famous actors, musicians, and artists who died at the age of 27.\n",
            "Pergunta: Nutella is produced by the German company Ferrero.\n",
            "Pergunta: The pickled gherkin was first added to hamburgers because a US health law required all fast-food to include a source of Vitamin C.\n",
            "Pergunta: Jingle Bells was originally meant for Thanksgiving\n"
          ]
        }
      ],
      "source": [
        "import requests\n",
        "\n",
        "param = \"amount=10&category=9&difficult=hard&type=boolean\"\n",
        "\n",
        "url = f\"https://opentdb.com/api.php?{param}\"\n",
        "\n",
        "response = requests.get(url).json()\n",
        "\n",
        "for pergunta in response['results']:\n",
        "  print(f\"Pergunta: {pergunta['question']}\")\n"
      ]
    },
    {
      "cell_type": "markdown",
      "metadata": {
        "id": "QH8DRtIxvmJu"
      },
      "source": [
        "\n",
        "# API Clima\n",
        "\n",
        "- Chave: da7d7856826a4e9daae192630241109\n"
      ]
    },
    {
      "cell_type": "code",
      "execution_count": 51,
      "metadata": {
        "colab": {
          "base_uri": "https://localhost:8080/"
        },
        "id": "hez_bkVCwC5u",
        "outputId": "d7b28737-a91c-4f8d-ec64-663d9958aaa6"
      },
      "outputs": [
        {
          "name": "stdout",
          "output_type": "stream",
          "text": [
            "Data e hora local: 2024-09-13 11:29\n",
            "País: Brazil\n",
            "Temperatura em Celsius: 28.1 C\n",
            "Velocidade do Vento: 14.0 Km/h\n"
          ]
        }
      ],
      "source": [
        "import requests\n",
        "\n",
        "api_key = \"da7d7856826a4e9daae192630241109\"\n",
        "\n",
        "cidade = \"Brasilia\"\n",
        "\n",
        "url = f\"http://api.weatherapi.com/v1/current.json?key={api_key}&q={cidade}\"\n",
        "\n",
        "response = requests.get(url)\n",
        "\n",
        "data = response.json()\n",
        "\n",
        "print(f\"Data e hora local: {data['location']['localtime']}\")\n",
        "print(f\"País: {data['location']['country']}\")\n",
        "print(f\"Temperatura em Celsius: {data['current']['temp_c']} C\")\n",
        "print(f\"Velocidade do Vento: {data['current']['wind_kph']} Km/h\")\n"
      ]
    }
  ],
  "metadata": {
    "colab": {
      "provenance": []
    },
    "kernelspec": {
      "display_name": "Python 3",
      "name": "python3"
    },
    "language_info": {
      "codemirror_mode": {
        "name": "ipython",
        "version": 3
      },
      "file_extension": ".py",
      "mimetype": "text/x-python",
      "name": "python",
      "nbconvert_exporter": "python",
      "pygments_lexer": "ipython3",
      "version": "3.12.5"
    }
  },
  "nbformat": 4,
  "nbformat_minor": 0
}
