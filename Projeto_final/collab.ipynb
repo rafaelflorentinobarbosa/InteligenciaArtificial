{
 "cells": [
  {
   "cell_type": "markdown",
   "metadata": {},
   "source": [
    "# Segundo Dataset: Criação Própria reciclagem 2014 ate 2024\n",
    "\n",
    "## Problema: Prever quanto o Brasil irá produzir de lixo e reciclar em 2025"
   ]
  },
  {
   "cell_type": "code",
   "execution_count": null,
   "metadata": {},
   "outputs": [],
   "source": [
    "! pip install pandas"
   ]
  },
  {
   "cell_type": "code",
   "execution_count": null,
   "metadata": {},
   "outputs": [],
   "source": [
    "! pip install scikit-learn"
   ]
  },
  {
   "cell_type": "code",
   "execution_count": 39,
   "metadata": {},
   "outputs": [],
   "source": [
    "import pandas as pd"
   ]
  },
  {
   "cell_type": "code",
   "execution_count": 40,
   "metadata": {},
   "outputs": [],
   "source": [
    "# df = pd.read_csv(\"https://raw.githubusercontent.com/rafaelflorentinobarbosa/InteligenciaArtificial/refs/heads/main/Projeto_final/dataset_lixo.csv\")\n",
    "df = pd.read_csv('datasets/dataset_lixo.csv')"
   ]
  },
  {
   "cell_type": "code",
   "execution_count": 41,
   "metadata": {},
   "outputs": [
    {
     "data": {
      "text/html": [
       "<div>\n",
       "<style scoped>\n",
       "    .dataframe tbody tr th:only-of-type {\n",
       "        vertical-align: middle;\n",
       "    }\n",
       "\n",
       "    .dataframe tbody tr th {\n",
       "        vertical-align: top;\n",
       "    }\n",
       "\n",
       "    .dataframe thead th {\n",
       "        text-align: right;\n",
       "    }\n",
       "</style>\n",
       "<table border=\"1\" class=\"dataframe\">\n",
       "  <thead>\n",
       "    <tr style=\"text-align: right;\">\n",
       "      <th></th>\n",
       "      <th>pais</th>\n",
       "      <th>ano</th>\n",
       "      <th>pib</th>\n",
       "      <th>populacao</th>\n",
       "      <th>lixo_organico</th>\n",
       "      <th>lixo_papel</th>\n",
       "      <th>lixo_metal</th>\n",
       "      <th>lixo_plastico</th>\n",
       "      <th>lixo_vidro</th>\n",
       "      <th>lixo_madeira</th>\n",
       "      <th>lixo_borracha</th>\n",
       "      <th>lixo_entulho</th>\n",
       "      <th>lixo_medico</th>\n",
       "      <th>outros_lixos</th>\n",
       "      <th>total_lixo</th>\n",
       "      <th>lixo_reciclado</th>\n",
       "    </tr>\n",
       "  </thead>\n",
       "  <tbody>\n",
       "    <tr>\n",
       "      <th>0</th>\n",
       "      <td>Brasil</td>\n",
       "      <td>2014</td>\n",
       "      <td>2416000000000</td>\n",
       "      <td>202600000</td>\n",
       "      <td>18100000.0</td>\n",
       "      <td>7400000.0</td>\n",
       "      <td>2900000.0</td>\n",
       "      <td>4400000.0</td>\n",
       "      <td>1650000.0</td>\n",
       "      <td>800000.0</td>\n",
       "      <td>300000.0</td>\n",
       "      <td>2500000.0</td>\n",
       "      <td>400000.0</td>\n",
       "      <td>100000.0</td>\n",
       "      <td>79700000</td>\n",
       "      <td>32000000.0</td>\n",
       "    </tr>\n",
       "    <tr>\n",
       "      <th>1</th>\n",
       "      <td>Brasil</td>\n",
       "      <td>2015</td>\n",
       "      <td>2418000000000</td>\n",
       "      <td>204500000</td>\n",
       "      <td>18500000.0</td>\n",
       "      <td>7600000.0</td>\n",
       "      <td>2950000.0</td>\n",
       "      <td>4500000.0</td>\n",
       "      <td>1700000.0</td>\n",
       "      <td>850000.0</td>\n",
       "      <td>320000.0</td>\n",
       "      <td>2600000.0</td>\n",
       "      <td>450000.0</td>\n",
       "      <td>110000.0</td>\n",
       "      <td>81300000</td>\n",
       "      <td>33000000.0</td>\n",
       "    </tr>\n",
       "    <tr>\n",
       "      <th>2</th>\n",
       "      <td>Brasil</td>\n",
       "      <td>2016</td>\n",
       "      <td>2384000000000</td>\n",
       "      <td>206100000</td>\n",
       "      <td>19000000.0</td>\n",
       "      <td>7800000.0</td>\n",
       "      <td>3000000.0</td>\n",
       "      <td>4600000.0</td>\n",
       "      <td>1750000.0</td>\n",
       "      <td>900000.0</td>\n",
       "      <td>350000.0</td>\n",
       "      <td>2700000.0</td>\n",
       "      <td>500000.0</td>\n",
       "      <td>120000.0</td>\n",
       "      <td>83000000</td>\n",
       "      <td>34000000.0</td>\n",
       "    </tr>\n",
       "    <tr>\n",
       "      <th>3</th>\n",
       "      <td>Brasil</td>\n",
       "      <td>2017</td>\n",
       "      <td>2056000000000</td>\n",
       "      <td>207660000</td>\n",
       "      <td>20000000.0</td>\n",
       "      <td>8000000.0</td>\n",
       "      <td>3100000.0</td>\n",
       "      <td>4800000.0</td>\n",
       "      <td>1800000.0</td>\n",
       "      <td>950000.0</td>\n",
       "      <td>370000.0</td>\n",
       "      <td>2800000.0</td>\n",
       "      <td>550000.0</td>\n",
       "      <td>130000.0</td>\n",
       "      <td>85000000</td>\n",
       "      <td>35000000.0</td>\n",
       "    </tr>\n",
       "    <tr>\n",
       "      <th>4</th>\n",
       "      <td>Brasil</td>\n",
       "      <td>2018</td>\n",
       "      <td>2064000000000</td>\n",
       "      <td>209300000</td>\n",
       "      <td>21000000.0</td>\n",
       "      <td>8200000.0</td>\n",
       "      <td>3200000.0</td>\n",
       "      <td>4900000.0</td>\n",
       "      <td>1850000.0</td>\n",
       "      <td>1000000.0</td>\n",
       "      <td>400000.0</td>\n",
       "      <td>2900000.0</td>\n",
       "      <td>600000.0</td>\n",
       "      <td>140000.0</td>\n",
       "      <td>87000000</td>\n",
       "      <td>36000000.0</td>\n",
       "    </tr>\n",
       "    <tr>\n",
       "      <th>5</th>\n",
       "      <td>Brasil</td>\n",
       "      <td>2019</td>\n",
       "      <td>2130000000000</td>\n",
       "      <td>210100000</td>\n",
       "      <td>22000000.0</td>\n",
       "      <td>8400000.0</td>\n",
       "      <td>3300000.0</td>\n",
       "      <td>5000000.0</td>\n",
       "      <td>1900000.0</td>\n",
       "      <td>1050000.0</td>\n",
       "      <td>420000.0</td>\n",
       "      <td>3000000.0</td>\n",
       "      <td>650000.0</td>\n",
       "      <td>150000.0</td>\n",
       "      <td>89000000</td>\n",
       "      <td>37000000.0</td>\n",
       "    </tr>\n",
       "    <tr>\n",
       "      <th>6</th>\n",
       "      <td>Brasil</td>\n",
       "      <td>2020</td>\n",
       "      <td>2143000000000</td>\n",
       "      <td>211000000</td>\n",
       "      <td>23000000.0</td>\n",
       "      <td>8600000.0</td>\n",
       "      <td>3400000.0</td>\n",
       "      <td>5100000.0</td>\n",
       "      <td>1950000.0</td>\n",
       "      <td>1100000.0</td>\n",
       "      <td>450000.0</td>\n",
       "      <td>3100000.0</td>\n",
       "      <td>700000.0</td>\n",
       "      <td>160000.0</td>\n",
       "      <td>91000000</td>\n",
       "      <td>38000000.0</td>\n",
       "    </tr>\n",
       "    <tr>\n",
       "      <th>7</th>\n",
       "      <td>Brasil</td>\n",
       "      <td>2021</td>\n",
       "      <td>2204000000000</td>\n",
       "      <td>212600000</td>\n",
       "      <td>24000000.0</td>\n",
       "      <td>8800000.0</td>\n",
       "      <td>3500000.0</td>\n",
       "      <td>5200000.0</td>\n",
       "      <td>2000000.0</td>\n",
       "      <td>1150000.0</td>\n",
       "      <td>480000.0</td>\n",
       "      <td>3200000.0</td>\n",
       "      <td>750000.0</td>\n",
       "      <td>170000.0</td>\n",
       "      <td>93000000</td>\n",
       "      <td>39000000.0</td>\n",
       "    </tr>\n",
       "    <tr>\n",
       "      <th>8</th>\n",
       "      <td>Brasil</td>\n",
       "      <td>2022</td>\n",
       "      <td>2375000000000</td>\n",
       "      <td>214000000</td>\n",
       "      <td>25000000.0</td>\n",
       "      <td>9000000.0</td>\n",
       "      <td>3600000.0</td>\n",
       "      <td>5300000.0</td>\n",
       "      <td>2050000.0</td>\n",
       "      <td>1200000.0</td>\n",
       "      <td>500000.0</td>\n",
       "      <td>3300000.0</td>\n",
       "      <td>800000.0</td>\n",
       "      <td>180000.0</td>\n",
       "      <td>95000000</td>\n",
       "      <td>40000000.0</td>\n",
       "    </tr>\n",
       "    <tr>\n",
       "      <th>9</th>\n",
       "      <td>Brasil</td>\n",
       "      <td>2023</td>\n",
       "      <td>2510000000000</td>\n",
       "      <td>215000000</td>\n",
       "      <td>26000000.0</td>\n",
       "      <td>9200000.0</td>\n",
       "      <td>3700000.0</td>\n",
       "      <td>5400000.0</td>\n",
       "      <td>2100000.0</td>\n",
       "      <td>1250000.0</td>\n",
       "      <td>530000.0</td>\n",
       "      <td>3400000.0</td>\n",
       "      <td>850000.0</td>\n",
       "      <td>190000.0</td>\n",
       "      <td>97000000</td>\n",
       "      <td>41000000.0</td>\n",
       "    </tr>\n",
       "  </tbody>\n",
       "</table>\n",
       "</div>"
      ],
      "text/plain": [
       "     pais   ano            pib  populacao  lixo_organico  lixo_papel  \\\n",
       "0  Brasil  2014  2416000000000  202600000     18100000.0   7400000.0   \n",
       "1  Brasil  2015  2418000000000  204500000     18500000.0   7600000.0   \n",
       "2  Brasil  2016  2384000000000  206100000     19000000.0   7800000.0   \n",
       "3  Brasil  2017  2056000000000  207660000     20000000.0   8000000.0   \n",
       "4  Brasil  2018  2064000000000  209300000     21000000.0   8200000.0   \n",
       "5  Brasil  2019  2130000000000  210100000     22000000.0   8400000.0   \n",
       "6  Brasil  2020  2143000000000  211000000     23000000.0   8600000.0   \n",
       "7  Brasil  2021  2204000000000  212600000     24000000.0   8800000.0   \n",
       "8  Brasil  2022  2375000000000  214000000     25000000.0   9000000.0   \n",
       "9  Brasil  2023  2510000000000  215000000     26000000.0   9200000.0   \n",
       "\n",
       "   lixo_metal  lixo_plastico  lixo_vidro  lixo_madeira  lixo_borracha  \\\n",
       "0   2900000.0      4400000.0   1650000.0      800000.0       300000.0   \n",
       "1   2950000.0      4500000.0   1700000.0      850000.0       320000.0   \n",
       "2   3000000.0      4600000.0   1750000.0      900000.0       350000.0   \n",
       "3   3100000.0      4800000.0   1800000.0      950000.0       370000.0   \n",
       "4   3200000.0      4900000.0   1850000.0     1000000.0       400000.0   \n",
       "5   3300000.0      5000000.0   1900000.0     1050000.0       420000.0   \n",
       "6   3400000.0      5100000.0   1950000.0     1100000.0       450000.0   \n",
       "7   3500000.0      5200000.0   2000000.0     1150000.0       480000.0   \n",
       "8   3600000.0      5300000.0   2050000.0     1200000.0       500000.0   \n",
       "9   3700000.0      5400000.0   2100000.0     1250000.0       530000.0   \n",
       "\n",
       "   lixo_entulho  lixo_medico  outros_lixos  total_lixo  lixo_reciclado  \n",
       "0     2500000.0     400000.0      100000.0    79700000      32000000.0  \n",
       "1     2600000.0     450000.0      110000.0    81300000      33000000.0  \n",
       "2     2700000.0     500000.0      120000.0    83000000      34000000.0  \n",
       "3     2800000.0     550000.0      130000.0    85000000      35000000.0  \n",
       "4     2900000.0     600000.0      140000.0    87000000      36000000.0  \n",
       "5     3000000.0     650000.0      150000.0    89000000      37000000.0  \n",
       "6     3100000.0     700000.0      160000.0    91000000      38000000.0  \n",
       "7     3200000.0     750000.0      170000.0    93000000      39000000.0  \n",
       "8     3300000.0     800000.0      180000.0    95000000      40000000.0  \n",
       "9     3400000.0     850000.0      190000.0    97000000      41000000.0  "
      ]
     },
     "execution_count": 41,
     "metadata": {},
     "output_type": "execute_result"
    }
   ],
   "source": [
    "df.head(10)"
   ]
  },
  {
   "cell_type": "code",
   "execution_count": 42,
   "metadata": {},
   "outputs": [
    {
     "data": {
      "text/plain": [
       "Index(['pais', 'ano', 'pib', 'populacao', 'lixo_organico', 'lixo_papel',\n",
       "       'lixo_metal', 'lixo_plastico', 'lixo_vidro', 'lixo_madeira',\n",
       "       'lixo_borracha', 'lixo_entulho', 'lixo_medico', 'outros_lixos',\n",
       "       'total_lixo', 'lixo_reciclado'],\n",
       "      dtype='object')"
      ]
     },
     "execution_count": 42,
     "metadata": {},
     "output_type": "execute_result"
    }
   ],
   "source": [
    "df.columns"
   ]
  },
  {
   "cell_type": "code",
   "execution_count": 67,
   "metadata": {},
   "outputs": [
    {
     "name": "stdout",
     "output_type": "stream",
     "text": [
      "<class 'pandas.core.frame.DataFrame'>\n",
      "RangeIndex: 1243 entries, 0 to 1242\n",
      "Data columns (total 16 columns):\n",
      " #   Column          Non-Null Count  Dtype  \n",
      "---  ------          --------------  -----  \n",
      " 0   pais            1243 non-null   object \n",
      " 1   ano             1243 non-null   int64  \n",
      " 2   pib             1243 non-null   int64  \n",
      " 3   populacao       1243 non-null   int64  \n",
      " 4   lixo_organico   1243 non-null   float64\n",
      " 5   lixo_papel      1243 non-null   float64\n",
      " 6   lixo_metal      1243 non-null   float64\n",
      " 7   lixo_plastico   1243 non-null   float64\n",
      " 8   lixo_vidro      1243 non-null   float64\n",
      " 9   lixo_madeira    1243 non-null   float64\n",
      " 10  lixo_borracha   1243 non-null   float64\n",
      " 11  lixo_entulho    1243 non-null   float64\n",
      " 12  lixo_medico     1243 non-null   float64\n",
      " 13  outros_lixos    1243 non-null   float64\n",
      " 14  total_lixo      1243 non-null   int64  \n",
      " 15  lixo_reciclado  770 non-null    float64\n",
      "dtypes: float64(11), int64(4), object(1)\n",
      "memory usage: 155.5+ KB\n"
     ]
    }
   ],
   "source": [
    "df.info()"
   ]
  },
  {
   "cell_type": "code",
   "execution_count": 68,
   "metadata": {},
   "outputs": [
    {
     "data": {
      "text/html": [
       "<div>\n",
       "<style scoped>\n",
       "    .dataframe tbody tr th:only-of-type {\n",
       "        vertical-align: middle;\n",
       "    }\n",
       "\n",
       "    .dataframe tbody tr th {\n",
       "        vertical-align: top;\n",
       "    }\n",
       "\n",
       "    .dataframe thead th {\n",
       "        text-align: right;\n",
       "    }\n",
       "</style>\n",
       "<table border=\"1\" class=\"dataframe\">\n",
       "  <thead>\n",
       "    <tr style=\"text-align: right;\">\n",
       "      <th></th>\n",
       "      <th>ano</th>\n",
       "      <th>pib</th>\n",
       "      <th>populacao</th>\n",
       "      <th>lixo_organico</th>\n",
       "      <th>lixo_papel</th>\n",
       "      <th>lixo_metal</th>\n",
       "      <th>lixo_plastico</th>\n",
       "      <th>lixo_vidro</th>\n",
       "      <th>lixo_madeira</th>\n",
       "      <th>lixo_borracha</th>\n",
       "      <th>lixo_entulho</th>\n",
       "      <th>lixo_medico</th>\n",
       "      <th>outros_lixos</th>\n",
       "      <th>total_lixo</th>\n",
       "      <th>lixo_reciclado</th>\n",
       "    </tr>\n",
       "  </thead>\n",
       "  <tbody>\n",
       "    <tr>\n",
       "      <th>count</th>\n",
       "      <td>1243.00000</td>\n",
       "      <td>1.243000e+03</td>\n",
       "      <td>1.243000e+03</td>\n",
       "      <td>1.243000e+03</td>\n",
       "      <td>1.243000e+03</td>\n",
       "      <td>1.243000e+03</td>\n",
       "      <td>1.243000e+03</td>\n",
       "      <td>1.243000e+03</td>\n",
       "      <td>1.243000e+03</td>\n",
       "      <td>1.243000e+03</td>\n",
       "      <td>1.243000e+03</td>\n",
       "      <td>1.243000e+03</td>\n",
       "      <td>1.243000e+03</td>\n",
       "      <td>1.243000e+03</td>\n",
       "      <td>7.700000e+02</td>\n",
       "    </tr>\n",
       "    <tr>\n",
       "      <th>mean</th>\n",
       "      <td>2019.00000</td>\n",
       "      <td>7.960596e+11</td>\n",
       "      <td>5.693619e+07</td>\n",
       "      <td>7.464151e+06</td>\n",
       "      <td>3.025645e+06</td>\n",
       "      <td>1.270748e+06</td>\n",
       "      <td>2.252561e+06</td>\n",
       "      <td>1.032223e+06</td>\n",
       "      <td>5.374563e+05</td>\n",
       "      <td>4.137538e+05</td>\n",
       "      <td>2.723081e+06</td>\n",
       "      <td>6.201897e+05</td>\n",
       "      <td>4.019579e+06</td>\n",
       "      <td>1.996942e+07</td>\n",
       "      <td>1.122291e+07</td>\n",
       "    </tr>\n",
       "    <tr>\n",
       "      <th>std</th>\n",
       "      <td>3.16355</td>\n",
       "      <td>2.586051e+12</td>\n",
       "      <td>1.853911e+08</td>\n",
       "      <td>1.530892e+07</td>\n",
       "      <td>7.301315e+06</td>\n",
       "      <td>3.014951e+06</td>\n",
       "      <td>5.306860e+06</td>\n",
       "      <td>2.208569e+06</td>\n",
       "      <td>1.134260e+06</td>\n",
       "      <td>1.167465e+06</td>\n",
       "      <td>9.205541e+06</td>\n",
       "      <td>1.601438e+06</td>\n",
       "      <td>9.036354e+06</td>\n",
       "      <td>5.496316e+07</td>\n",
       "      <td>2.770905e+07</td>\n",
       "    </tr>\n",
       "    <tr>\n",
       "      <th>min</th>\n",
       "      <td>2014.00000</td>\n",
       "      <td>2.800000e+08</td>\n",
       "      <td>8.000000e+02</td>\n",
       "      <td>1.500000e+01</td>\n",
       "      <td>1.000000e+01</td>\n",
       "      <td>3.000000e+00</td>\n",
       "      <td>4.000000e+00</td>\n",
       "      <td>2.000000e+00</td>\n",
       "      <td>1.000000e+00</td>\n",
       "      <td>5.000000e-01</td>\n",
       "      <td>2.000000e+00</td>\n",
       "      <td>2.000000e-01</td>\n",
       "      <td>1.000000e-01</td>\n",
       "      <td>3.700000e+01</td>\n",
       "      <td>2.000000e+01</td>\n",
       "    </tr>\n",
       "    <tr>\n",
       "      <th>25%</th>\n",
       "      <td>2016.00000</td>\n",
       "      <td>2.300000e+10</td>\n",
       "      <td>3.200000e+06</td>\n",
       "      <td>9.400000e+05</td>\n",
       "      <td>3.000000e+05</td>\n",
       "      <td>1.400000e+05</td>\n",
       "      <td>2.250000e+05</td>\n",
       "      <td>1.000000e+05</td>\n",
       "      <td>5.800000e+04</td>\n",
       "      <td>3.350000e+04</td>\n",
       "      <td>1.300000e+04</td>\n",
       "      <td>2.100000e+04</td>\n",
       "      <td>9.500000e+04</td>\n",
       "      <td>8.000000e+05</td>\n",
       "      <td>6.525000e+05</td>\n",
       "    </tr>\n",
       "    <tr>\n",
       "      <th>50%</th>\n",
       "      <td>2019.00000</td>\n",
       "      <td>1.550000e+11</td>\n",
       "      <td>9.900000e+06</td>\n",
       "      <td>3.100000e+06</td>\n",
       "      <td>9.800000e+05</td>\n",
       "      <td>4.200000e+05</td>\n",
       "      <td>7.000000e+05</td>\n",
       "      <td>3.400000e+05</td>\n",
       "      <td>2.100000e+05</td>\n",
       "      <td>1.150000e+05</td>\n",
       "      <td>1.600000e+05</td>\n",
       "      <td>1.100000e+05</td>\n",
       "      <td>5.000000e+05</td>\n",
       "      <td>3.100000e+06</td>\n",
       "      <td>2.750000e+06</td>\n",
       "    </tr>\n",
       "    <tr>\n",
       "      <th>75%</th>\n",
       "      <td>2022.00000</td>\n",
       "      <td>4.500000e+11</td>\n",
       "      <td>3.875000e+07</td>\n",
       "      <td>8.400000e+06</td>\n",
       "      <td>3.000000e+06</td>\n",
       "      <td>1.300000e+06</td>\n",
       "      <td>2.700000e+06</td>\n",
       "      <td>1.150000e+06</td>\n",
       "      <td>5.600000e+05</td>\n",
       "      <td>3.600000e+05</td>\n",
       "      <td>6.850000e+05</td>\n",
       "      <td>5.000000e+05</td>\n",
       "      <td>4.200000e+06</td>\n",
       "      <td>1.431500e+07</td>\n",
       "      <td>1.100000e+07</td>\n",
       "    </tr>\n",
       "    <tr>\n",
       "      <th>max</th>\n",
       "      <td>2024.00000</td>\n",
       "      <td>2.800000e+13</td>\n",
       "      <td>1.428000e+09</td>\n",
       "      <td>1.600000e+08</td>\n",
       "      <td>7.600000e+07</td>\n",
       "      <td>3.100000e+07</td>\n",
       "      <td>5.500000e+07</td>\n",
       "      <td>2.000000e+07</td>\n",
       "      <td>1.300000e+07</td>\n",
       "      <td>1.300000e+07</td>\n",
       "      <td>8.500000e+07</td>\n",
       "      <td>1.400000e+07</td>\n",
       "      <td>5.700000e+07</td>\n",
       "      <td>4.980000e+08</td>\n",
       "      <td>2.300000e+08</td>\n",
       "    </tr>\n",
       "  </tbody>\n",
       "</table>\n",
       "</div>"
      ],
      "text/plain": [
       "              ano           pib     populacao  lixo_organico    lixo_papel  \\\n",
       "count  1243.00000  1.243000e+03  1.243000e+03   1.243000e+03  1.243000e+03   \n",
       "mean   2019.00000  7.960596e+11  5.693619e+07   7.464151e+06  3.025645e+06   \n",
       "std       3.16355  2.586051e+12  1.853911e+08   1.530892e+07  7.301315e+06   \n",
       "min    2014.00000  2.800000e+08  8.000000e+02   1.500000e+01  1.000000e+01   \n",
       "25%    2016.00000  2.300000e+10  3.200000e+06   9.400000e+05  3.000000e+05   \n",
       "50%    2019.00000  1.550000e+11  9.900000e+06   3.100000e+06  9.800000e+05   \n",
       "75%    2022.00000  4.500000e+11  3.875000e+07   8.400000e+06  3.000000e+06   \n",
       "max    2024.00000  2.800000e+13  1.428000e+09   1.600000e+08  7.600000e+07   \n",
       "\n",
       "         lixo_metal  lixo_plastico    lixo_vidro  lixo_madeira  lixo_borracha  \\\n",
       "count  1.243000e+03   1.243000e+03  1.243000e+03  1.243000e+03   1.243000e+03   \n",
       "mean   1.270748e+06   2.252561e+06  1.032223e+06  5.374563e+05   4.137538e+05   \n",
       "std    3.014951e+06   5.306860e+06  2.208569e+06  1.134260e+06   1.167465e+06   \n",
       "min    3.000000e+00   4.000000e+00  2.000000e+00  1.000000e+00   5.000000e-01   \n",
       "25%    1.400000e+05   2.250000e+05  1.000000e+05  5.800000e+04   3.350000e+04   \n",
       "50%    4.200000e+05   7.000000e+05  3.400000e+05  2.100000e+05   1.150000e+05   \n",
       "75%    1.300000e+06   2.700000e+06  1.150000e+06  5.600000e+05   3.600000e+05   \n",
       "max    3.100000e+07   5.500000e+07  2.000000e+07  1.300000e+07   1.300000e+07   \n",
       "\n",
       "       lixo_entulho   lixo_medico  outros_lixos    total_lixo  lixo_reciclado  \n",
       "count  1.243000e+03  1.243000e+03  1.243000e+03  1.243000e+03    7.700000e+02  \n",
       "mean   2.723081e+06  6.201897e+05  4.019579e+06  1.996942e+07    1.122291e+07  \n",
       "std    9.205541e+06  1.601438e+06  9.036354e+06  5.496316e+07    2.770905e+07  \n",
       "min    2.000000e+00  2.000000e-01  1.000000e-01  3.700000e+01    2.000000e+01  \n",
       "25%    1.300000e+04  2.100000e+04  9.500000e+04  8.000000e+05    6.525000e+05  \n",
       "50%    1.600000e+05  1.100000e+05  5.000000e+05  3.100000e+06    2.750000e+06  \n",
       "75%    6.850000e+05  5.000000e+05  4.200000e+06  1.431500e+07    1.100000e+07  \n",
       "max    8.500000e+07  1.400000e+07  5.700000e+07  4.980000e+08    2.300000e+08  "
      ]
     },
     "execution_count": 68,
     "metadata": {},
     "output_type": "execute_result"
    }
   ],
   "source": [
    "df.describe()"
   ]
  },
  {
   "cell_type": "code",
   "execution_count": 45,
   "metadata": {},
   "outputs": [],
   "source": [
    "import pandas as pd\n",
    "import numpy as np\n",
    "import matplotlib.pyplot as plt"
   ]
  },
  {
   "cell_type": "markdown",
   "metadata": {},
   "source": [
    "# Correlação entre o PIB e a Produção de lixo"
   ]
  },
  {
   "cell_type": "code",
   "execution_count": 60,
   "metadata": {},
   "outputs": [
    {
     "name": "stdout",
     "output_type": "stream",
     "text": [
      "Coeficiente de correlação: 0.869268297183534\n"
     ]
    }
   ],
   "source": [
    "correlation_pib_lixo = df['pib'].corr(df['total_lixo'])\n",
    "print(\"Coeficiente de correlação:\", correlation_pib_lixo)"
   ]
  },
  {
   "cell_type": "code",
   "execution_count": 61,
   "metadata": {},
   "outputs": [
    {
     "data": {
      "text/plain": [
       "Text(0, 0.5, 'total_lixo')"
      ]
     },
     "execution_count": 61,
     "metadata": {},
     "output_type": "execute_result"
    },
    {
     "data": {
      "image/png": "[encoded data removed]",
      "text/plain": [
       "<Figure size 640x480 with 1 Axes>"
      ]
     },
     "metadata": {},
     "output_type": "display_data"
    }
   ],
   "source": [
    "plt.scatter(df['pib'], df['total_lixo'])\n",
    "plt.title(\"Relação entre pib e total_lixo\")\n",
    "plt.xlabel(\"pib\")\n",
    "plt.ylabel(\"total_lixo\")"
   ]
  },
  {
   "cell_type": "markdown",
   "metadata": {},
   "source": [
    "# Correlação entre o População e a Produção de lixo"
   ]
  },
  {
   "cell_type": "code",
   "execution_count": 62,
   "metadata": {},
   "outputs": [
    {
     "name": "stdout",
     "output_type": "stream",
     "text": [
      "Coeficiente de correlação: 0.8484537231538799\n"
     ]
    }
   ],
   "source": [
    "correlation_populacao_lixo = df['populacao'].corr(df['total_lixo'])\n",
    "print(\"Coeficiente de correlação:\", correlation_populacao_lixo)"
   ]
  },
  {
   "cell_type": "code",
   "execution_count": 58,
   "metadata": {},
   "outputs": [
    {
     "data": {
      "text/plain": [
       "Text(0, 0.5, 'total_lixo')"
      ]
     },
     "execution_count": 58,
     "metadata": {},
     "output_type": "execute_result"
    },
    {
     "data": {
      "image/png": "[encoded data removed]",
      "text/plain": [
       "<Figure size 640x480 with 1 Axes>"
      ]
     },
     "metadata": {},
     "output_type": "display_data"
    }
   ],
   "source": [
    "plt.scatter(df['populacao'], df['total_lixo'])\n",
    "plt.title(\"Relação entre populacao e total_lixo\")\n",
    "plt.xlabel(\"populacao\")\n",
    "plt.ylabel(\"total_lixo\")"
   ]
  },
  {
   "cell_type": "markdown",
   "metadata": {},
   "source": [
    "# Correlação entre o pib e reciclagem"
   ]
  },
  {
   "cell_type": "code",
   "execution_count": 64,
   "metadata": {},
   "outputs": [
    {
     "name": "stdout",
     "output_type": "stream",
     "text": [
      "Coeficiente de correlação: 0.8484537231538799\n"
     ]
    }
   ],
   "source": [
    "correlation_pib_reciclagem = df['pib'].corr(df['lixo_reciclado'])\n",
    "print(\"Coeficiente de correlação:\", correlation_populacao_lixo)"
   ]
  },
  {
   "cell_type": "code",
   "execution_count": 65,
   "metadata": {},
   "outputs": [
    {
     "data": {
      "text/plain": [
       "Text(0, 0.5, 'lixo_reciclado')"
      ]
     },
     "execution_count": 65,
     "metadata": {},
     "output_type": "execute_result"
    },
    {
     "data": {
      "image/png": "[encoded data removed]",
      "text/plain": [
       "<Figure size 640x480 with 1 Axes>"
      ]
     },
     "metadata": {},
     "output_type": "display_data"
    }
   ],
   "source": [
    "plt.scatter(df['pib'], df['lixo_reciclado'])\n",
    "plt.title(\"Relação entre pib e lixo_reciclado\")\n",
    "plt.xlabel(\"pib\")\n",
    "plt.ylabel(\"lixo_reciclado\")"
   ]
  },
  {
   "cell_type": "markdown",
   "metadata": {},
   "source": [
    "# Treinamento, Teste, Regressão Linear"
   ]
  },
  {
   "cell_type": "code",
   "execution_count": null,
   "metadata": {},
   "outputs": [],
   "source": [
    "from sklearn.linear_model import LinearRegression\n",
    "from sklearn.model_selection import train_test_split"
   ]
  },
  {
   "cell_type": "code",
   "execution_count": null,
   "metadata": {},
   "outputs": [
    {
     "name": "stdout",
     "output_type": "stream",
     "text": [
      "Previsão para 2025: 67803521.97030172\n"
     ]
    }
   ],
   "source": [
    "X = df[['pib', 'populacao']]  # Adicione outras features se necessário\n",
    "y = df['total_lixo']\n",
    "\n",
    "# Dividir os dados em treinamento(67%) e teste(33%)\n",
    "X_train, X_test, y_train, y_test = train_test_split(X, y, test_size=1/3, random_state=0)\n",
    "\n",
    "# Criar e treinar o modelo\n",
    "model = LinearRegression()\n",
    "model.fit(X_train, y_train)\n",
    "\n",
    "# Prever o valor para 2025\n",
    "new_data = pd.DataFrame({'pib': [2600000000000], 'populacao': [216000000]})  # Substitua os valores por suas estimativas\n",
    "predicted_value = model.predict(new_data)\n",
    "\n",
    "print(\"Previsão para 2025:\", predicted_value[0])"
   ]
  }
 ],
 "metadata": {
  "kernelspec": {
   "display_name": ".venv",
   "language": "python",
   "name": "python3"
  },
  "language_info": {
   "codemirror_mode": {
    "name": "ipython",
    "version": 3
   },
   "file_extension": ".py",
   "mimetype": "text/x-python",
   "name": "python",
   "nbconvert_exporter": "python",
   "pygments_lexer": "ipython3",
   "version": "3.12.7"
  }
 },
 "nbformat": 4,
 "nbformat_minor": 2
}
