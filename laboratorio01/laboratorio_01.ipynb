{
  "cells": [
    {
      "cell_type": "markdown",
      "metadata": {
        "id": "fqw3ioDgCZu3"
      },
      "source": [
        "# Introdução a PLN (Processamento de Linguagem Natural)"
      ]
    },
    {
      "cell_type": "markdown",
      "metadata": {
        "id": "34S6SKemCmPa"
      },
      "source": [
        "1. Texto (**Corpus - Corpora**)\n",
        "2. Tokenização (palavra ou sentença)\n",
        "3. Análise Léxica (stemming) -stem (radical): entregar - **Entreg** = **steam**\n",
        "4. Análise Sintática ( gramatica e ** sintáticas**)\n",
        "5. Análise Semântica(**contexto**)\n",
        "\n",
        "![](https://colband.net.br/files/2013/04/vendo-por-do-sol.jpg)\n",
        "\n",
        "6. Análise Pragmática (intenções, implicações, tom, subentendido - ChatGPT 4o)\n",
        "7. Significando pretendido do falante"
      ]
    },
    {
      "cell_type": "markdown",
      "metadata": {
        "id": "WXGgYgH2Hl15"
      },
      "source": []
    },
    {
      "cell_type": "markdown",
      "metadata": {
        "id": "9f0Ed2VkLOJP"
      },
      "source": [
        "# NLTK ( Natural Lenguage Toolkit)\n",
        "\n"
      ]
    },
    {
      "cell_type": "markdown",
      "metadata": {
        "id": "pIyjaQY3PDub"
      },
      "source": [
        "* Biblioteca\n",
        "* Popular\n",
        "* Python\n",
        "* PLN (Processamento de Linguagem Natural)"
      ]
    },
    {
      "cell_type": "code",
      "execution_count": 1,
      "metadata": {
        "colab": {
          "base_uri": "https://localhost:8080/"
        },
        "id": "CkH0_zmBLDwQ",
        "outputId": "0ce146f8-02ee-4efe-c979-a148b19db72e"
      },
      "outputs": [
        {
          "name": "stdout",
          "output_type": "stream",
          "text": [
            "Collecting nltk\n",
            "  Using cached nltk-3.9.1-py3-none-any.whl.metadata (2.9 kB)\n",
            "Requirement already satisfied: click in c:\\users\\ead\\documents\\rafael\\inteligenciaartificial\\seniavox\\.venv\\lib\\site-packages (from nltk) (8.1.7)\n",
            "Collecting joblib (from nltk)\n",
            "  Using cached joblib-1.4.2-py3-none-any.whl.metadata (5.4 kB)\n",
            "Collecting regex>=2021.8.3 (from nltk)\n",
            "  Using cached regex-2024.9.11-cp312-cp312-win_amd64.whl.metadata (41 kB)\n",
            "Collecting tqdm (from nltk)\n",
            "  Using cached tqdm-4.66.5-py3-none-any.whl.metadata (57 kB)\n",
            "Requirement already satisfied: colorama in c:\\users\\ead\\documents\\rafael\\inteligenciaartificial\\seniavox\\.venv\\lib\\site-packages (from click->nltk) (0.4.6)\n",
            "Using cached nltk-3.9.1-py3-none-any.whl (1.5 MB)\n",
            "Using cached regex-2024.9.11-cp312-cp312-win_amd64.whl (273 kB)\n",
            "Using cached joblib-1.4.2-py3-none-any.whl (301 kB)\n",
            "Using cached tqdm-4.66.5-py3-none-any.whl (78 kB)\n",
            "Installing collected packages: tqdm, regex, joblib, nltk\n",
            "Successfully installed joblib-1.4.2 nltk-3.9.1 regex-2024.9.11 tqdm-4.66.5\n"
          ]
        }
      ],
      "source": [
        "! pip install nltk"
      ]
    },
    {
      "cell_type": "markdown",
      "metadata": {
        "id": "uyl1A1klMISY"
      },
      "source": [
        "# Etapa 1: Texto (Corpus ou Corpora)"
      ]
    },
    {
      "cell_type": "markdown",
      "metadata": {
        "id": "8XtyChD_OSdH"
      },
      "source": [
        "## Atribuindo um texto em uma variável"
      ]
    },
    {
      "cell_type": "code",
      "execution_count": 2,
      "metadata": {
        "id": "4v04nmaQMoFP"
      },
      "outputs": [],
      "source": [
        "texto = (\"É o pau, é a pedra, é o fim do caminho\"\n",
        "\"É um resto de toco, é um pouco sozinho\"\n",
        "\"É um caco de vidro, é a vida, é o sol\"\n",
        "\"É a noite, é a morte, é um laço, é o anzol\"\n",
        "\"É peroba no campo, é o nó da madeira\"\n",
        "\"Caingá candeia, é o matita-pereira\"\n",
        "\"É madeira de vento, tombo da ribanceira\"\n",
        "\"É o mistério profundo, é o queira ou não queira\"\n",
        "\"É o vento vetando, é o fim da ladeira\"\n",
        "\"É a viga, é o vão, festa da cumeeira\"\n",
        "\"É a chuva chovendo, é conversa ribeira\"\n",
        "\"Das águas de março, é o fim da canseira\"\n",
        "\"É o pé, é o chão, é a marcha estradeira\"\n",
        "\"Passarinho na mão, pedra de atiradeira\"\n",
        "\"É uma ave no céu, é uma ave no chão\"\n",
        "\"É um regato, é uma fonte, é um pedaço de pão\"\n",
        "\"É o fundo do poço, é o fim do caminho\"\n",
        "\"No rosto um desgosto, é um pouco sozinho\"\n",
        "\"É um estepe, é um prego, é uma conta, é um conto\"\n",
        "\"É um pingo pingando, é uma conta, é um ponto\"\n",
        "\"É um peixe, é um gesto, é uma prata brilhando\"\n",
        "\"É a luz da manha, é o tijolo chegando\"\n",
        "\"É a lenha, é o dia, é o fim da picada\"\n",
        "\"É a garrafa de cana, o estilhaço na estrada\"\n",
        "\"É o projeto da casa, é o corpo na cama\"\n",
        "\"É o carro enguiçado, é a lama, é a lama\"\n",
        "\"É um passo, é uma ponte, é um sapo, é uma rã\"\n",
        "\"É um resto de mato na luz da manhã\"\n",
        "\"São as águas de março fechando o verão\"\n",
        "\"É a promessa de vida no teu coração\"\n",
        "\"É uma cobra, é um pau, é João, é José\"\n",
        "\"É um espinho na mão, é um corte no pé\"\n",
        "\"São as águas de março fechando o verão\"\n",
        "\"É a promessa de vida no teu coração\"\n",
        "\"É pau, é pedra, é o fim do caminho\"\n",
        "\"É um resto de toco, é um pouco sozinho\"\n",
        "\"É um passo, é uma ponte, é um sapo, é uma rã\"\n",
        "\"É um belo horizonte, é uma febre terça\"\n",
        "\"São as águas de março fechando o verão\"\n",
        "\"É a promessa de vida no teu coração\"\n",
        "\"Pau, edra\"\n",
        "\"Im, inho\"\n",
        "\"Esto, oco\"\n",
        "\"Uco, inho\"\n",
        "\"Aco, idro\"\n",
        "\"Ida, ol\"\n",
        "\"Oite, orte\"\n",
        "\"Aço, zol\"\n",
        "\"São as águas de março fechando o verão\"\n",
        "\"É a promessa de vida no teu coração\")"
      ]
    },
    {
      "cell_type": "code",
      "execution_count": 7,
      "metadata": {},
      "outputs": [
        {
          "name": "stdout",
          "output_type": "stream",
          "text": [
            "É o pau, é a pedra, é o fim do caminhoÉ um resto de toco, é um pouco sozinhoÉ um caco de vidro, é a vida, é o solÉ a noite, é a morte, é um laço, é o anzolÉ peroba no campo, é o nó da madeiraCaingá candeia, é o matita-pereiraÉ madeira de vento, tombo da ribanceiraÉ o mistério profundo, é o queira ou não queiraÉ o vento vetando, é o fim da ladeiraÉ a viga, é o vão, festa da cumeeiraÉ a chuva chovendo, é conversa ribeiraDas águas de março, é o fim da canseiraÉ o pé, é o chão, é a marcha estradeiraPassarinho na mão, pedra de atiradeiraÉ uma ave no céu, é uma ave no chãoÉ um regato, é uma fonte, é um pedaço de pãoÉ o fundo do poço, é o fim do caminhoNo rosto um desgosto, é um pouco sozinhoÉ um estepe, é um prego, é uma conta, é um contoÉ um pingo pingando, é uma conta, é um pontoÉ um peixe, é um gesto, é uma prata brilhandoÉ a luz da manha, é o tijolo chegandoÉ a lenha, é o dia, é o fim da picadaÉ a garrafa de cana, o estilhaço na estradaÉ o projeto da casa, é o corpo na camaÉ o carro enguiçado, é a lama, é a lamaÉ um passo, é uma ponte, é um sapo, é uma rãÉ um resto de mato na luz da manhãSão as águas de março fechando o verãoÉ a promessa de vida no teu coraçãoÉ uma cobra, é um pau, é João, é JoséÉ um espinho na mão, é um corte no péSão as águas de março fechando o verãoÉ a promessa de vida no teu coraçãoÉ pau, é pedra, é o fim do caminhoÉ um resto de toco, é um pouco sozinhoÉ um passo, é uma ponte, é um sapo, é uma rãÉ um belo horizonte, é uma febre terçaSão as águas de março fechando o verãoÉ a promessa de vida no teu coraçãoPau, edraIm, inhoEsto, ocoUco, inhoAco, idroIda, olOite, orteAço, zolSão as águas de março fechando o verãoÉ a promessa de vida no teu coração\n"
          ]
        }
      ],
      "source": [
        "print(texto)"
      ]
    },
    {
      "cell_type": "markdown",
      "metadata": {
        "id": "SSrwrr6MPpCZ"
      },
      "source": [
        "# Lendo um arquivo do diretório"
      ]
    },
    {
      "cell_type": "code",
      "execution_count": 3,
      "metadata": {
        "id": "6BhjuFd8SG1W"
      },
      "outputs": [],
      "source": [
        "# biblioteca para manipular diretorios (sistema operacional)\n",
        "import os"
      ]
    },
    {
      "cell_type": "code",
      "execution_count": 4,
      "metadata": {
        "colab": {
          "base_uri": "https://localhost:8080/"
        },
        "id": "-Dy5i83-RXfe",
        "outputId": "401dc464-40a5-490c-b205-71b97372dd08"
      },
      "outputs": [
        {
          "name": "stdout",
          "output_type": "stream",
          "text": [
            "Na terra de ninguém\n",
            "Onde ninguém quer ouvir a verdade\n",
            "Onde ninguém tem a necessidade\n",
            "De segurança, trabalho\n",
            "Comida, de honestidade\n",
            "Justiça e amor\n",
            "Na terra de ninguém\n",
            "Na terra de ninguém\n",
            "Onde ninguém hoje é respeitado\n",
            "Onde ninguém quer mudar esse quadro\n",
            "De violência, miséria\n",
            "Maldade, de peversidade\n",
            "Engano e dor, na terra de ninguém\n",
            "Na terra de ninguém\n",
            "Eu vi duas pessoas jogando xadrez\n",
            "Eu vi um bispo e a rainha tentando\n",
            "Um xeque mate na frentre do rei\n",
            "Onde a prosperidade e a pobreza\n",
            "São apenas um meio de se conseguir mais riqueza\n",
            "Xeque mate\n",
            "Na terra de ninguém\n",
            "Na terra de ninguém\n",
            "Eu tive medo do que podia acontecer\n",
            "Na terra de ninguém\n",
            "Eu tenho medo do que poderá acontecer\n",
            "Na terra de ninguém\n",
            "Eu tive medo do que podia acontecer\n",
            "Na terra de ninguém\n",
            "Eu tenho medo do que poderá acontecer\n",
            "Na terra de ninguém\n",
            "Me ajoelhei e orei\n",
            "Na terra de ninguém\n",
            "Eu me ajoelhei e orei\n",
            "Na terra de ninguém\n"
          ]
        }
      ],
      "source": [
        "with open(os.path.join(\"dados\",\"terradeninguem.txt\"), \"r\", encoding=\"utf-8\") as f:\n",
        "    texto2 = f.read()\n",
        "    print(texto2)"
      ]
    },
    {
      "cell_type": "markdown",
      "metadata": {
        "id": "31Ab7qMST3BA"
      },
      "source": [
        "# Etapa 2: Tokenização (palavra ou sentença)"
      ]
    },
    {
      "cell_type": "markdown",
      "metadata": {
        "id": "_eftWYF2UH_-"
      },
      "source": [
        "## Importação"
      ]
    },
    {
      "cell_type": "code",
      "execution_count": 5,
      "metadata": {
        "id": "uDr4jpXmUKh-"
      },
      "outputs": [],
      "source": [
        "from nltk.tokenize import word_tokenize\n",
        "\n",
        "from nltk.tokenize import sent_tokenize\n",
        "\n",
        "import nltk"
      ]
    },
    {
      "cell_type": "markdown",
      "metadata": {
        "id": "EcgyA8AJUc3d"
      },
      "source": [
        "# Dowload de um Modelo Pré-Treinado (Corpora)"
      ]
    },
    {
      "cell_type": "code",
      "execution_count": 6,
      "metadata": {
        "colab": {
          "base_uri": "https://localhost:8080/"
        },
        "id": "nyhkEN3JUmGd",
        "outputId": "25adb5d6-1cc9-4953-d3b9-2a12e7241db7"
      },
      "outputs": [
        {
          "name": "stderr",
          "output_type": "stream",
          "text": [
            "[nltk_data] Downloading package punkt to\n",
            "[nltk_data]     C:\\Users\\ead\\AppData\\Roaming\\nltk_data...\n",
            "[nltk_data]   Package punkt is already up-to-date!\n"
          ]
        },
        {
          "data": {
            "text/plain": [
              "True"
            ]
          },
          "execution_count": 6,
          "metadata": {},
          "output_type": "execute_result"
        }
      ],
      "source": [
        "nltk.download('punkt')"
      ]
    },
    {
      "cell_type": "markdown",
      "metadata": {
        "id": "hZRq9nz4VYn7"
      },
      "source": [
        "# Iniciando a Tokenização"
      ]
    },
    {
      "cell_type": "markdown",
      "metadata": {
        "id": "JNusC8O0Vj5R"
      },
      "source": [
        "- Vamos analisar duas musicas:\n",
        "\n",
        "- Primeiro: Águas de março\n",
        "- Segundo: Terra de ninguém"
      ]
    },
    {
      "cell_type": "markdown",
      "metadata": {
        "id": "RVeBz3lVgWoy"
      },
      "source": [
        "## Águas de Março - Analisando Sentenças"
      ]
    },
    {
      "cell_type": "code",
      "execution_count": null,
      "metadata": {
        "id": "TDgViiNZghpC"
      },
      "outputs": [],
      "source": [
        "sentencas_aguas_marco = sent_tokenize(texto, language='portuguese')\n"
      ]
    },
    {
      "cell_type": "code",
      "execution_count": null,
      "metadata": {
        "colab": {
          "base_uri": "https://localhost:8080/"
        },
        "id": "A6GMW43nhni7",
        "outputId": "b2ccae1b-ed6a-4def-b7d0-d3761a24b0e4"
      },
      "outputs": [],
      "source": [
        "print(sentencas_aguas_marco)"
      ]
    },
    {
      "cell_type": "code",
      "execution_count": null,
      "metadata": {
        "colab": {
          "base_uri": "https://localhost:8080/"
        },
        "id": "nRZrnNbKiSi3",
        "outputId": "280e3316-bcea-467b-f502-8759a944ec0e"
      },
      "outputs": [],
      "source": [
        "print(type(sentencas_aguas_marco))"
      ]
    },
    {
      "cell_type": "markdown",
      "metadata": {
        "id": "Khzrle_mi65r"
      },
      "source": [
        "# Lendo arquivo de diretório"
      ]
    },
    {
      "cell_type": "code",
      "execution_count": 22,
      "metadata": {
        "id": "jIVF7JFejClD"
      },
      "outputs": [],
      "source": [
        "import os"
      ]
    },
    {
      "cell_type": "markdown",
      "metadata": {
        "id": "tpnFwPt5kE_x"
      },
      "source": [
        "# Aguas de março Analisando Parlavras"
      ]
    },
    {
      "cell_type": "code",
      "execution_count": null,
      "metadata": {
        "colab": {
          "base_uri": "https://localhost:8080/"
        },
        "id": "rU_7mnUikPDx",
        "outputId": "f2ebc155-3c24-4640-82b6-cfefa4e081bf"
      },
      "outputs": [],
      "source": [
        "# exercício - usando word_tokenize,\n",
        "# tokenize apenas as palavras agora, na musica Águas de Março do Tom Jobim.\n",
        "\n",
        "palavras_aguas_marco = word_tokenize(texto, language='portuguese')\n",
        "print(palavras_aguas_marco)"
      ]
    },
    {
      "cell_type": "markdown",
      "metadata": {
        "id": "JkXAMhAflQDk"
      },
      "source": [
        "# Estatistica(Probabilidade) - Análise Descritiva"
      ]
    },
    {
      "cell_type": "markdown",
      "metadata": {
        "id": "9haQXMWhla4S"
      },
      "source": [
        "# Frequência de distribuição\n",
        "- Palavras com mais repetições"
      ]
    },
    {
      "cell_type": "code",
      "execution_count": 20,
      "metadata": {
        "id": "YuH3TgBolktC"
      },
      "outputs": [],
      "source": [
        "from nltk.probability import FreqDist"
      ]
    },
    {
      "cell_type": "code",
      "execution_count": null,
      "metadata": {
        "id": "oLzm9IDCl3dH"
      },
      "outputs": [],
      "source": [
        "fdisk_aguas_marco = FreqDist(palavras_aguas_marco)"
      ]
    },
    {
      "cell_type": "code",
      "execution_count": null,
      "metadata": {
        "colab": {
          "base_uri": "https://localhost:8080/"
        },
        "id": "dAN3bhSSmFK2",
        "outputId": "4785f316-7297-4cae-8e16-63cf5ae478f3"
      },
      "outputs": [
        {
          "data": {
            "text/plain": [
              "FreqDist({',': 61, 'é': 49, 'o': 28, 'um': 26, 'de': 17, 'a': 16, 'uma': 12, 'da': 9, 'no': 8, 'fim': 6, ...})"
            ]
          },
          "execution_count": 88,
          "metadata": {},
          "output_type": "execute_result"
        }
      ],
      "source": [
        "fdisk_aguas_marco"
      ]
    },
    {
      "cell_type": "code",
      "execution_count": null,
      "metadata": {
        "colab": {
          "base_uri": "https://localhost:8080/"
        },
        "id": "rhvaBzCJmLy9",
        "outputId": "f938337d-c965-43d3-c52f-c4dbf384c1fa"
      },
      "outputs": [
        {
          "data": {
            "text/plain": [
              "[(',', 61), ('é', 49)]"
            ]
          },
          "execution_count": 89,
          "metadata": {},
          "output_type": "execute_result"
        }
      ],
      "source": [
        "fdisk_aguas_marco.most_common(2)"
      ]
    },
    {
      "cell_type": "code",
      "execution_count": null,
      "metadata": {
        "colab": {
          "base_uri": "https://localhost:8080/",
          "height": 483
        },
        "id": "XY15uOJqnHDy",
        "outputId": "e3ea470d-4a0e-460a-dd55-f8cc09db813a"
      },
      "outputs": [
        {
          "data": {
            "image/png": "[encoded data removed]",
            "text/plain": [
              "<Figure size 640x480 with 1 Axes>"
            ]
          },
          "metadata": {},
          "output_type": "display_data"
        },
        {
          "data": {
            "text/plain": [
              "<Axes: xlabel='Samples', ylabel='Counts'>"
            ]
          },
          "execution_count": 90,
          "metadata": {},
          "output_type": "execute_result"
        }
      ],
      "source": [
        "fdisk_aguas_marco.plot(10)"
      ]
    },
    {
      "cell_type": "markdown",
      "metadata": {
        "id": "ql4c46jtnZwf"
      },
      "source": [
        "# Exercício\n",
        "- Escolha uma música preferida\n",
        "- Crie um gráfico de linha com a distribuição de frequência da tokenização de palavras\n",
        "- Pesquise sobre WordCloud e STOPWORD- o que é e para que serve?"
      ]
    },
    {
      "cell_type": "code",
      "execution_count": null,
      "metadata": {
        "id": "AM72IFMvp2dv"
      },
      "outputs": [],
      "source": [
        "texto3 = (\"Todos os dias quando acordo\"\n",
        "\"Não tenho mais\"\n",
        "\"O tempo que passou\"\n",
        "\"Mas tenho muito tempo\"\n",
        "\"Temos todo o tempo do mundo\"\n",
        "\"Todos os dias\"\n",
        "\"Antes de dormir\"\n",
        "\"Lembro e esqueço\"\n",
        "\"Como foi o dia\"\n",
        "\"Sempre em frente\"\n",
        "\"Não temos tempo a perder\"\n",
        "\"Nosso suor sagrado\"\n",
        "\"É bem mais belo\"\n",
        "\"Que esse sangue amargo\"\n",
        "\"E tão sério\"\n",
        "\"E selvagem Selvagem\"\n",
        "\"Selvagem\"\n",
        "\"Veja o sol\"\n",
        "\"Dessa manhã tão cinza\"\n",
        "\"A tempestade que chega\"\n",
        "\"É da cor dos teus olhos\"\n",
        "\"Castanhos\"\n",
        "\"Então me abraça forte\"\n",
        "\"E diz mais uma vez\"\n",
        "\"Que já estamos\"\n",
        "\"Distantes de tudo\"\n",
        "\"Temos nosso próprio tempo\"\n",
        "\"Temos nosso próprio tempo\"\n",
        "\"Temos nosso próprio tempo\"\n",
        "\"Não tenho medo do escuro\"\n",
        "\"Mas deixe as luzes\"\n",
        "\"Acesas agora\"\n",
        "\"O que foi escondido\"\n",
        "\"É o que se escondeu\"\n",
        "\"E o que foi prometido\"\n",
        "\"Ninguém prometeu\"\n",
        "\"Nem foi tempo perdido\"\n",
        "\"Somos tão jovens\"\n",
        "\"Tão jovens Tão jovens\")"
      ]
    },
    {
      "cell_type": "code",
      "execution_count": null,
      "metadata": {
        "colab": {
          "base_uri": "https://localhost:8080/"
        },
        "id": "U7QNLGoBq5We",
        "outputId": "143561a2-3767-441e-ee0f-344151b1c53d"
      },
      "outputs": [
        {
          "name": "stdout",
          "output_type": "stream",
          "text": [
            "['Todos', 'os', 'dias', 'quando', 'acordoNão', 'tenho', 'maisO', 'tempo', 'que', 'passouMas', 'tenho', 'muito', 'tempoTemos', 'todo', 'o', 'tempo', 'do', 'mundoTodos', 'os', 'diasAntes', 'de', 'dormirLembro', 'e', 'esqueçoComo', 'foi', 'o', 'diaSempre', 'em', 'frenteNão', 'temos', 'tempo', 'a', 'perderNosso', 'suor', 'sagradoÉ', 'bem', 'mais', 'beloQue', 'esse', 'sangue', 'amargoE', 'tão', 'sérioE', 'selvagem', 'SelvagemSelvagemVeja', 'o', 'solDessa', 'manhã', 'tão', 'cinzaA', 'tempestade', 'que', 'chegaÉ', 'da', 'cor', 'dos', 'teus', 'olhosCastanhosEntão', 'me', 'abraça', 'forteE', 'diz', 'mais', 'uma', 'vezQue', 'já', 'estamosDistantes', 'de', 'tudoTemos', 'nosso', 'próprio', 'tempoTemos', 'nosso', 'próprio', 'tempoTemos', 'nosso', 'próprio', 'tempoNão', 'tenho', 'medo', 'do', 'escuroMas', 'deixe', 'as', 'luzesAcesas', 'agoraO', 'que', 'foi', 'escondidoÉ', 'o', 'que', 'se', 'escondeuE', 'o', 'que', 'foi', 'prometidoNinguém', 'prometeuNem', 'foi', 'tempo', 'perdidoSomos', 'tão', 'jovensTão', 'jovens', 'Tão', 'jovens']\n"
          ]
        }
      ],
      "source": [
        "palavras_tempo_perdido = word_tokenize(texto3, language='portuguese')\n",
        "print(palavras_tempo_perdido)"
      ]
    },
    {
      "cell_type": "code",
      "execution_count": null,
      "metadata": {
        "id": "ZrnWU1zuqd2V"
      },
      "outputs": [],
      "source": [
        "from nltk.probability import FreqDist"
      ]
    },
    {
      "cell_type": "code",
      "execution_count": null,
      "metadata": {
        "id": "oHZcq5Vbqnhd"
      },
      "outputs": [],
      "source": [
        "fdisk_tempo_perdido = FreqDist(palavras_tempo_perdido)"
      ]
    },
    {
      "cell_type": "code",
      "execution_count": null,
      "metadata": {
        "colab": {
          "base_uri": "https://localhost:8080/"
        },
        "id": "tAXW6OazrG2d",
        "outputId": "5a161362-edd6-4264-a6fe-78a79f90de76"
      },
      "outputs": [
        {
          "data": {
            "text/plain": [
              "[('que', 5), ('o', 5)]"
            ]
          },
          "execution_count": 102,
          "metadata": {},
          "output_type": "execute_result"
        }
      ],
      "source": [
        "fdisk_tempo_perdido.most_common(2)"
      ]
    },
    {
      "cell_type": "code",
      "execution_count": null,
      "metadata": {
        "colab": {
          "base_uri": "https://localhost:8080/",
          "height": 541
        },
        "id": "h7nDUYDIrO5N",
        "outputId": "a7b037b9-3e50-45cc-d4be-113ab39de364"
      },
      "outputs": [
        {
          "data": {
            "image/png": "[encoded data removed]",
            "text/plain": [
              "<Figure size 640x480 with 1 Axes>"
            ]
          },
          "metadata": {},
          "output_type": "display_data"
        },
        {
          "data": {
            "text/plain": [
              "<Axes: xlabel='Samples', ylabel='Counts'>"
            ]
          },
          "execution_count": 103,
          "metadata": {},
          "output_type": "execute_result"
        }
      ],
      "source": [
        "fdisk_tempo_perdido.plot(10)"
      ]
    }
  ],
  "metadata": {
    "colab": {
      "provenance": []
    },
    "kernelspec": {
      "display_name": "Python 3",
      "name": "python3"
    },
    "language_info": {
      "codemirror_mode": {
        "name": "ipython",
        "version": 3
      },
      "file_extension": ".py",
      "mimetype": "text/x-python",
      "name": "python",
      "nbconvert_exporter": "python",
      "pygments_lexer": "ipython3",
      "version": "3.12.5"
    }
  },
  "nbformat": 4,
  "nbformat_minor": 0
}
