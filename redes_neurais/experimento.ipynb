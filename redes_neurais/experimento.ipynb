{
 "cells": [
  {
   "cell_type": "markdown",
   "metadata": {},
   "source": [
    " # Aplicação de Redes Neurais - Visão Computacional\n",
    "\n",
    " ## O Problema"
   ]
  },
  {
   "cell_type": "markdown",
   "metadata": {},
   "source": [
    "- Pela lei brasileira e segurança no transito e proibido dirigir com sonolência"
   ]
  },
  {
   "cell_type": "markdown",
   "metadata": {},
   "source": [
    "## A solucção"
   ]
  },
  {
   "cell_type": "markdown",
   "metadata": {},
   "source": [
    "- Implementar uma inteligencia artificial\n",
    "- Criar um projeto de aplicação de redes neurais - Visão Computacional"
   ]
  },
  {
   "cell_type": "markdown",
   "metadata": {
    "vscode": {
     "languageId": "plaintext"
    }
   },
   "source": [
    "# As tecnologias  "
   ]
  },
  {
   "cell_type": "markdown",
   "metadata": {},
   "source": [
    "- Linguagem  programação Python\n",
    "- Biblioteca OpenCV\n",
    "- Media Pipe"
   ]
  },
  {
   "cell_type": "markdown",
   "metadata": {},
   "source": [
    "## Equipamentos"
   ]
  },
  {
   "cell_type": "markdown",
   "metadata": {},
   "source": [
    "- Camera 0 o camera 1 ou outra camera\n",
    "- camera escolhida longitech N231"
   ]
  },
  {
   "cell_type": "markdown",
   "metadata": {},
   "source": [
    "# Explicando as tecnologias"
   ]
  },
  {
   "cell_type": "markdown",
   "metadata": {},
   "source": [
    "- A biblioteca OpeCV 0 e usada oara tratar is daadis vusuais\n",
    "- A biblioteca MediaPipe- para reconhecimento \n",
    "- A biblioteca Numpy- para caculos mate maticos"
   ]
  },
  {
   "cell_type": "markdown",
   "metadata": {},
   "source": [
    "## Instalação das bibliotecas"
   ]
  },
  {
   "cell_type": "code",
   "execution_count": 4,
   "metadata": {},
   "outputs": [
    {
     "name": "stdout",
     "output_type": "stream",
     "text": [
      "Collecting opencv-python\n",
      "  Downloading opencv_python-4.10.0.84-cp37-abi3-win_amd64.whl.metadata (20 kB)\n",
      "Requirement already satisfied: numpy>=1.21.2 in c:\\users\\ead\\documents\\rafael\\inteligenciaartificial\\redes_neurais\\.venv\\lib\\site-packages (from opencv-python) (2.1.2)\n",
      "Downloading opencv_python-4.10.0.84-cp37-abi3-win_amd64.whl (38.8 MB)\n",
      "   ---------------------------------------- 0.0/38.8 MB ? eta -:--:--\n",
      "   - -------------------------------------- 1.3/38.8 MB 9.6 MB/s eta 0:00:04\n",
      "   ---- ----------------------------------- 4.2/38.8 MB 11.5 MB/s eta 0:00:04\n",
      "   ------ --------------------------------- 6.0/38.8 MB 11.5 MB/s eta 0:00:03\n",
      "   ------- -------------------------------- 7.6/38.8 MB 10.0 MB/s eta 0:00:04\n",
      "   -------- ------------------------------- 8.4/38.8 MB 8.7 MB/s eta 0:00:04\n",
      "   --------- ------------------------------ 8.9/38.8 MB 7.7 MB/s eta 0:00:04\n",
      "   --------- ------------------------------ 9.4/38.8 MB 7.1 MB/s eta 0:00:05\n",
      "   ---------- ----------------------------- 10.2/38.8 MB 6.5 MB/s eta 0:00:05\n",
      "   ----------- ---------------------------- 11.0/38.8 MB 6.2 MB/s eta 0:00:05\n",
      "   ------------ --------------------------- 12.1/38.8 MB 6.0 MB/s eta 0:00:05\n",
      "   ------------- -------------------------- 12.8/38.8 MB 5.9 MB/s eta 0:00:05\n",
      "   -------------- ------------------------- 14.2/38.8 MB 5.8 MB/s eta 0:00:05\n",
      "   --------------- ------------------------ 15.2/38.8 MB 5.8 MB/s eta 0:00:05\n",
      "   ----------------- ---------------------- 16.5/38.8 MB 5.8 MB/s eta 0:00:04\n",
      "   ------------------ --------------------- 17.8/38.8 MB 5.9 MB/s eta 0:00:04\n",
      "   ------------------- -------------------- 19.4/38.8 MB 5.9 MB/s eta 0:00:04\n",
      "   --------------------- ------------------ 21.0/38.8 MB 6.1 MB/s eta 0:00:03\n",
      "   ----------------------- ---------------- 22.5/38.8 MB 6.2 MB/s eta 0:00:03\n",
      "   ------------------------- -------------- 24.4/38.8 MB 6.3 MB/s eta 0:00:03\n",
      "   -------------------------- ------------- 26.0/38.8 MB 6.4 MB/s eta 0:00:03\n",
      "   ---------------------------- ----------- 28.0/38.8 MB 6.6 MB/s eta 0:00:02\n",
      "   ------------------------------ --------- 29.9/38.8 MB 6.7 MB/s eta 0:00:02\n",
      "   -------------------------------- ------- 32.0/38.8 MB 6.9 MB/s eta 0:00:02\n",
      "   ----------------------------------- ---- 34.1/38.8 MB 7.0 MB/s eta 0:00:01\n",
      "   ------------------------------------- -- 36.2/38.8 MB 7.1 MB/s eta 0:00:01\n",
      "   ---------------------------------------  38.5/38.8 MB 7.3 MB/s eta 0:00:01\n",
      "   ---------------------------------------- 38.8/38.8 MB 7.2 MB/s eta 0:00:00\n",
      "Installing collected packages: opencv-python\n",
      "Successfully installed opencv-python-4.10.0.84\n"
     ]
    }
   ],
   "source": [
    "! pip install opencv-python"
   ]
  },
  {
   "cell_type": "code",
   "execution_count": 5,
   "metadata": {},
   "outputs": [],
   "source": [
    "! pip freeze >> Requirements.txt"
   ]
  },
  {
   "cell_type": "code",
   "execution_count": null,
   "metadata": {},
   "outputs": [],
   "source": [
    "! pip install mediapipe"
   ]
  },
  {
   "cell_type": "markdown",
   "metadata": {},
   "source": [
    "# O projeto é ponto de partida (baseline)"
   ]
  },
  {
   "cell_type": "markdown",
   "metadata": {},
   "source": [
    "- Ideias inovadoras (InovaTech)\n",
    "- Implementar e sugerir novas idéias para a Industria Automotiva(SENAI)\n",
    "- "
   ]
  },
  {
   "cell_type": "code",
   "execution_count": null,
   "metadata": {},
   "outputs": [],
   "source": [
    "import cv2"
   ]
  },
  {
   "cell_type": "code",
   "execution_count": null,
   "metadata": {},
   "outputs": [],
   "source": [
    "cv2.VideoCapture(1)"
   ]
  },
  {
   "cell_type": "code",
   "execution_count": null,
   "metadata": {},
   "outputs": [],
   "source": []
  }
 ],
 "metadata": {
  "kernelspec": {
   "display_name": ".venv",
   "language": "python",
   "name": "python3"
  },
  "language_info": {
   "codemirror_mode": {
    "name": "ipython",
    "version": 3
   },
   "file_extension": ".py",
   "mimetype": "text/x-python",
   "name": "python",
   "nbconvert_exporter": "python",
   "pygments_lexer": "ipython3",
   "version": "3.12.7"
  }
 },
 "nbformat": 4,
 "nbformat_minor": 2
}
