{
 "cells": [
  {
   "cell_type": "markdown",
   "metadata": {},
   "source": [
    "# Conhecendo o DataSet"
   ]
  },
  {
   "cell_type": "markdown",
   "metadata": {},
   "source": [
    "- Link original do dataset:\n",
    "https://archive.ics.uci.edu/dataset/144/statlog+german+credit+data"
   ]
  },
  {
   "cell_type": "markdown",
   "metadata": {
    "vscode": {
     "languageId": "plaintext"
    }
   },
   "source": [
    "- Link traduzido:\n",
    "\n",
    "https://raw.githubusercontent.com/romulosilvestre/semanaclassificacao-parte2/refs/heads/master/datasets/anacondabank_credit_scoring.csv"
   ]
  },
  {
   "cell_type": "code",
   "execution_count": 1,
   "metadata": {},
   "outputs": [
    {
     "name": "stdout",
     "output_type": "stream",
     "text": [
      "Requirement already satisfied: pandas in c:\\users\\ead\\documents\\rafael\\inteligenciaartificial\\anacondabank_m\\.venv\\lib\\site-packages (2.2.3)\n",
      "Requirement already satisfied: numpy>=1.26.0 in c:\\users\\ead\\documents\\rafael\\inteligenciaartificial\\anacondabank_m\\.venv\\lib\\site-packages (from pandas) (2.1.2)\n",
      "Requirement already satisfied: python-dateutil>=2.8.2 in c:\\users\\ead\\documents\\rafael\\inteligenciaartificial\\anacondabank_m\\.venv\\lib\\site-packages (from pandas) (2.9.0.post0)\n",
      "Requirement already satisfied: pytz>=2020.1 in c:\\users\\ead\\documents\\rafael\\inteligenciaartificial\\anacondabank_m\\.venv\\lib\\site-packages (from pandas) (2024.2)\n",
      "Requirement already satisfied: tzdata>=2022.7 in c:\\users\\ead\\documents\\rafael\\inteligenciaartificial\\anacondabank_m\\.venv\\lib\\site-packages (from pandas) (2024.2)\n",
      "Requirement already satisfied: six>=1.5 in c:\\users\\ead\\documents\\rafael\\inteligenciaartificial\\anacondabank_m\\.venv\\lib\\site-packages (from python-dateutil>=2.8.2->pandas) (1.16.0)\n"
     ]
    }
   ],
   "source": [
    "# instalar pandas\n",
    "! pip install pandas"
   ]
  },
  {
   "cell_type": "code",
   "execution_count": 2,
   "metadata": {},
   "outputs": [],
   "source": [
    "import pandas as pd"
   ]
  },
  {
   "cell_type": "code",
   "execution_count": 3,
   "metadata": {},
   "outputs": [],
   "source": [
    "url = \"datasets/anacondabank_credit_scoring.csv\""
   ]
  },
  {
   "cell_type": "code",
   "execution_count": 4,
   "metadata": {},
   "outputs": [],
   "source": [
    "df = pd.read_csv(url)"
   ]
  },
  {
   "cell_type": "code",
   "execution_count": 5,
   "metadata": {},
   "outputs": [
    {
     "data": {
      "text/html": [
       "<div>\n",
       "<style scoped>\n",
       "    .dataframe tbody tr th:only-of-type {\n",
       "        vertical-align: middle;\n",
       "    }\n",
       "\n",
       "    .dataframe tbody tr th {\n",
       "        vertical-align: top;\n",
       "    }\n",
       "\n",
       "    .dataframe thead th {\n",
       "        text-align: right;\n",
       "    }\n",
       "</style>\n",
       "<table border=\"1\" class=\"dataframe\">\n",
       "  <thead>\n",
       "    <tr style=\"text-align: right;\">\n",
       "      <th></th>\n",
       "      <th>default</th>\n",
       "      <th>conta_corrente</th>\n",
       "      <th>prazo_emprestimo_meses</th>\n",
       "      <th>historico_credito</th>\n",
       "      <th>proposito_emprestimo</th>\n",
       "      <th>valor_emprestimo</th>\n",
       "      <th>reserva_cc</th>\n",
       "      <th>tempo_emprego_atual</th>\n",
       "      <th>taxa_comp_salario</th>\n",
       "      <th>sexo_est_civil</th>\n",
       "      <th>...</th>\n",
       "      <th>anos_residencia_atual</th>\n",
       "      <th>propriedade</th>\n",
       "      <th>idade</th>\n",
       "      <th>outros_planos_financiamento</th>\n",
       "      <th>tipo_residencia</th>\n",
       "      <th>n_creditos_banco</th>\n",
       "      <th>status_emprego</th>\n",
       "      <th>n_dependentes</th>\n",
       "      <th>telefone</th>\n",
       "      <th>trabalhador_estrangeiro</th>\n",
       "    </tr>\n",
       "  </thead>\n",
       "  <tbody>\n",
       "    <tr>\n",
       "      <th>0</th>\n",
       "      <td>0</td>\n",
       "      <td>&lt; 0 DM</td>\n",
       "      <td>6</td>\n",
       "      <td>critical account/ other credits existing (not ...</td>\n",
       "      <td>domestic appliances</td>\n",
       "      <td>1169</td>\n",
       "      <td>unknown/ no savings account</td>\n",
       "      <td>.. &gt;= 7 years</td>\n",
       "      <td>4</td>\n",
       "      <td>male : single</td>\n",
       "      <td>...</td>\n",
       "      <td>4</td>\n",
       "      <td>real estate</td>\n",
       "      <td>67</td>\n",
       "      <td>none</td>\n",
       "      <td>own</td>\n",
       "      <td>2</td>\n",
       "      <td>skilled employee / official</td>\n",
       "      <td>1</td>\n",
       "      <td>yes, registered under the customers name</td>\n",
       "      <td>yes</td>\n",
       "    </tr>\n",
       "    <tr>\n",
       "      <th>1</th>\n",
       "      <td>1</td>\n",
       "      <td>0 &lt;= ... &lt; 200 DM</td>\n",
       "      <td>48</td>\n",
       "      <td>existing credits paid back duly till now</td>\n",
       "      <td>domestic appliances</td>\n",
       "      <td>5951</td>\n",
       "      <td>... &lt; 100 DM</td>\n",
       "      <td>1 &lt;= ... &lt; 4 years</td>\n",
       "      <td>2</td>\n",
       "      <td>female : divorced/separated/married</td>\n",
       "      <td>...</td>\n",
       "      <td>2</td>\n",
       "      <td>real estate</td>\n",
       "      <td>22</td>\n",
       "      <td>none</td>\n",
       "      <td>own</td>\n",
       "      <td>1</td>\n",
       "      <td>skilled employee / official</td>\n",
       "      <td>1</td>\n",
       "      <td>none</td>\n",
       "      <td>yes</td>\n",
       "    </tr>\n",
       "    <tr>\n",
       "      <th>2</th>\n",
       "      <td>0</td>\n",
       "      <td>no checking account</td>\n",
       "      <td>12</td>\n",
       "      <td>critical account/ other credits existing (not ...</td>\n",
       "      <td>(vacation - does not exist?)</td>\n",
       "      <td>2096</td>\n",
       "      <td>... &lt; 100 DM</td>\n",
       "      <td>4 &lt;= ... &lt; 7 years</td>\n",
       "      <td>2</td>\n",
       "      <td>male : single</td>\n",
       "      <td>...</td>\n",
       "      <td>3</td>\n",
       "      <td>real estate</td>\n",
       "      <td>49</td>\n",
       "      <td>none</td>\n",
       "      <td>own</td>\n",
       "      <td>1</td>\n",
       "      <td>unskilled - resident</td>\n",
       "      <td>2</td>\n",
       "      <td>none</td>\n",
       "      <td>yes</td>\n",
       "    </tr>\n",
       "    <tr>\n",
       "      <th>3</th>\n",
       "      <td>0</td>\n",
       "      <td>&lt; 0 DM</td>\n",
       "      <td>42</td>\n",
       "      <td>existing credits paid back duly till now</td>\n",
       "      <td>radio/television</td>\n",
       "      <td>7882</td>\n",
       "      <td>... &lt; 100 DM</td>\n",
       "      <td>4 &lt;= ... &lt; 7 years</td>\n",
       "      <td>2</td>\n",
       "      <td>male : single</td>\n",
       "      <td>...</td>\n",
       "      <td>4</td>\n",
       "      <td>if not A121 : building society savings agreeme...</td>\n",
       "      <td>45</td>\n",
       "      <td>none</td>\n",
       "      <td>for free</td>\n",
       "      <td>1</td>\n",
       "      <td>skilled employee / official</td>\n",
       "      <td>2</td>\n",
       "      <td>none</td>\n",
       "      <td>yes</td>\n",
       "    </tr>\n",
       "    <tr>\n",
       "      <th>4</th>\n",
       "      <td>1</td>\n",
       "      <td>&lt; 0 DM</td>\n",
       "      <td>24</td>\n",
       "      <td>delay in paying off in the past</td>\n",
       "      <td>car (new)</td>\n",
       "      <td>4870</td>\n",
       "      <td>... &lt; 100 DM</td>\n",
       "      <td>1 &lt;= ... &lt; 4 years</td>\n",
       "      <td>3</td>\n",
       "      <td>male : single</td>\n",
       "      <td>...</td>\n",
       "      <td>4</td>\n",
       "      <td>unknown / no property</td>\n",
       "      <td>53</td>\n",
       "      <td>none</td>\n",
       "      <td>for free</td>\n",
       "      <td>2</td>\n",
       "      <td>skilled employee / official</td>\n",
       "      <td>2</td>\n",
       "      <td>none</td>\n",
       "      <td>yes</td>\n",
       "    </tr>\n",
       "  </tbody>\n",
       "</table>\n",
       "<p>5 rows × 21 columns</p>\n",
       "</div>"
      ],
      "text/plain": [
       "   default       conta_corrente  prazo_emprestimo_meses  \\\n",
       "0        0               < 0 DM                       6   \n",
       "1        1    0 <= ... < 200 DM                      48   \n",
       "2        0  no checking account                      12   \n",
       "3        0               < 0 DM                      42   \n",
       "4        1               < 0 DM                      24   \n",
       "\n",
       "                                   historico_credito  \\\n",
       "0  critical account/ other credits existing (not ...   \n",
       "1           existing credits paid back duly till now   \n",
       "2  critical account/ other credits existing (not ...   \n",
       "3           existing credits paid back duly till now   \n",
       "4                    delay in paying off in the past   \n",
       "\n",
       "           proposito_emprestimo  valor_emprestimo  \\\n",
       "0           domestic appliances              1169   \n",
       "1           domestic appliances              5951   \n",
       "2  (vacation - does not exist?)              2096   \n",
       "3              radio/television              7882   \n",
       "4                     car (new)              4870   \n",
       "\n",
       "                    reserva_cc tempo_emprego_atual  taxa_comp_salario  \\\n",
       "0  unknown/ no savings account       .. >= 7 years                  4   \n",
       "1                 ... < 100 DM  1 <= ... < 4 years                  2   \n",
       "2                 ... < 100 DM  4 <= ... < 7 years                  2   \n",
       "3                 ... < 100 DM  4 <= ... < 7 years                  2   \n",
       "4                 ... < 100 DM  1 <= ... < 4 years                  3   \n",
       "\n",
       "                        sexo_est_civil  ... anos_residencia_atual  \\\n",
       "0                        male : single  ...                     4   \n",
       "1  female : divorced/separated/married  ...                     2   \n",
       "2                        male : single  ...                     3   \n",
       "3                        male : single  ...                     4   \n",
       "4                        male : single  ...                     4   \n",
       "\n",
       "                                         propriedade idade  \\\n",
       "0                                        real estate    67   \n",
       "1                                        real estate    22   \n",
       "2                                        real estate    49   \n",
       "3  if not A121 : building society savings agreeme...    45   \n",
       "4                              unknown / no property    53   \n",
       "\n",
       "   outros_planos_financiamento tipo_residencia n_creditos_banco  \\\n",
       "0                         none             own                2   \n",
       "1                         none             own                1   \n",
       "2                         none             own                1   \n",
       "3                         none        for free                1   \n",
       "4                         none        for free                2   \n",
       "\n",
       "                status_emprego n_dependentes  \\\n",
       "0  skilled employee / official             1   \n",
       "1  skilled employee / official             1   \n",
       "2         unskilled - resident             2   \n",
       "3  skilled employee / official             2   \n",
       "4  skilled employee / official             2   \n",
       "\n",
       "                                    telefone trabalhador_estrangeiro  \n",
       "0  yes, registered under the customers name                      yes  \n",
       "1                                       none                     yes  \n",
       "2                                       none                     yes  \n",
       "3                                       none                     yes  \n",
       "4                                       none                     yes  \n",
       "\n",
       "[5 rows x 21 columns]"
      ]
     },
     "execution_count": 5,
     "metadata": {},
     "output_type": "execute_result"
    }
   ],
   "source": [
    "df.head()"
   ]
  },
  {
   "cell_type": "code",
   "execution_count": 6,
   "metadata": {},
   "outputs": [
    {
     "data": {
      "text/plain": [
       "Index(['default', 'conta_corrente', 'prazo_emprestimo_meses',\n",
       "       'historico_credito', 'proposito_emprestimo', 'valor_emprestimo',\n",
       "       'reserva_cc', 'tempo_emprego_atual', 'taxa_comp_salario',\n",
       "       'sexo_est_civil', 'outros_fiadores', 'anos_residencia_atual',\n",
       "       'propriedade', 'idade', 'outros_planos_financiamento',\n",
       "       'tipo_residencia', 'n_creditos_banco', 'status_emprego',\n",
       "       'n_dependentes', 'telefone', 'trabalhador_estrangeiro'],\n",
       "      dtype='object')"
      ]
     },
     "execution_count": 6,
     "metadata": {},
     "output_type": "execute_result"
    }
   ],
   "source": [
    "df.columns"
   ]
  },
  {
   "cell_type": "code",
   "execution_count": 7,
   "metadata": {},
   "outputs": [
    {
     "data": {
      "text/plain": [
       "array(['< 0 DM', '0 <= ... < 200 DM', 'no checking account',\n",
       "       '>= 200 DM / salary assignments for at least 1 year'], dtype=object)"
      ]
     },
     "execution_count": 7,
     "metadata": {},
     "output_type": "execute_result"
    }
   ],
   "source": [
    "# Pega quais os tipos de valores únicos \n",
    "df['conta_corrente'].unique()"
   ]
  },
  {
   "cell_type": "code",
   "execution_count": 8,
   "metadata": {},
   "outputs": [],
   "source": [
    "dict_cc = {\n",
    "    '< 0 DM':1,\n",
    "    '0 <= ... < 200 DM':2,\n",
    "    'no checking account':3,\n",
    "    '>= 200 DM / salary assignments for at least 1 year':4\n",
    "}"
   ]
  },
  {
   "cell_type": "code",
   "execution_count": 9,
   "metadata": {},
   "outputs": [],
   "source": [
    "df['conta_corrente'] = df['conta_corrente'].map(dict_cc)"
   ]
  },
  {
   "cell_type": "markdown",
   "metadata": {},
   "source": [
    "# Coluna Trabalhador Estrangeiro"
   ]
  },
  {
   "cell_type": "code",
   "execution_count": 10,
   "metadata": {},
   "outputs": [
    {
     "data": {
      "text/plain": [
       "array(['yes', 'no'], dtype=object)"
      ]
     },
     "execution_count": 10,
     "metadata": {},
     "output_type": "execute_result"
    }
   ],
   "source": [
    "df['trabalhador_estrangeiro'].unique()\n"
   ]
  },
  {
   "cell_type": "code",
   "execution_count": 11,
   "metadata": {},
   "outputs": [],
   "source": [
    "dict_te = {\n",
    "    'no':0,\n",
    "    'yes':1\n",
    "}"
   ]
  },
  {
   "cell_type": "code",
   "execution_count": 12,
   "metadata": {},
   "outputs": [],
   "source": [
    "df['trabalhador_estrangeiro'] = df['trabalhador_estrangeiro'].map(dict_te)"
   ]
  },
  {
   "cell_type": "markdown",
   "metadata": {},
   "source": [
    "# Coluna Tempo emprego atual"
   ]
  },
  {
   "cell_type": "code",
   "execution_count": 13,
   "metadata": {},
   "outputs": [
    {
     "data": {
      "text/plain": [
       "array(['.. >= 7 years', '1 <= ... < 4 years', '4 <= ... < 7 years',\n",
       "       'unemployed', '... < 1 year '], dtype=object)"
      ]
     },
     "execution_count": 13,
     "metadata": {},
     "output_type": "execute_result"
    }
   ],
   "source": [
    "df['tempo_emprego_atual'].unique()\n"
   ]
  },
  {
   "cell_type": "code",
   "execution_count": 14,
   "metadata": {},
   "outputs": [],
   "source": [
    "dict_tea = {\n",
    "    '.. >= 7 years':1,\n",
    "    '1 <= ... < 4 years':2,\n",
    "    '4 <= ... < 7 years':3,\n",
    "    'unemployed':4,\n",
    "    '... < 1 year ':5\n",
    "}"
   ]
  },
  {
   "cell_type": "code",
   "execution_count": 15,
   "metadata": {},
   "outputs": [],
   "source": [
    "df['tempo_emprego_atual'] = df['tempo_emprego_atual'].map(dict_tea)"
   ]
  },
  {
   "cell_type": "code",
   "execution_count": 16,
   "metadata": {},
   "outputs": [],
   "source": [
    "df['historico_credito'].unique()\n",
    "#dicionário\n",
    "dict_historico= {\n",
    "    'critical account/ other credits existing (not at this bank)':1,\n",
    "    'existing credits paid back duly till now':2,\n",
    "    'delay in paying off in the past':3,\n",
    "    'no credits taken/ all credits paid back duly':4,\n",
    "    'all credits at this bank paid back duly':5\n",
    "}\n",
    "#map\n",
    "df['historico_credito']= df['historico_credito'].map(dict_historico)"
   ]
  },
  {
   "cell_type": "code",
   "execution_count": 17,
   "metadata": {},
   "outputs": [],
   "source": [
    "df['proposito_emprestimo'].unique()\n",
    "\n",
    "dict_pe = {\n",
    "    'domestic appliances':1,\n",
    "    '(vacation - does not exist?)':2,\n",
    "    'radio/television':3,\n",
    "    'car (new)':4,\n",
    "    'car (used)':5,\n",
    "    'business':6,\n",
    "    'repairs':7,\n",
    "    'education':8,\n",
    "    'furniture/equipment':9,\n",
    "    'retraining':10\n",
    "\n",
    "}"
   ]
  },
  {
   "cell_type": "code",
   "execution_count": 18,
   "metadata": {},
   "outputs": [],
   "source": [
    "df['proposito_emprestimo'] = df['proposito_emprestimo'].map(dict_pe)\n",
    "\n",
    "df[\"reserva_cc\"].unique()\n",
    "\n",
    "dict_rcc = {\n",
    "    \"unknown/ no savings account\":0,\n",
    "    \"... < 100 DM\":1,\n",
    "    \"500 <= ... < 1000 DM \":2,\n",
    "    \".. >= 1000 DM \":3,\n",
    "    \"100 <= ... < 500 DM\":4,\n",
    "}"
   ]
  },
  {
   "cell_type": "code",
   "execution_count": 19,
   "metadata": {},
   "outputs": [],
   "source": [
    "df[\"reserva_cc\"] = df[\"reserva_cc\"].map(dict_rcc)\n",
    "\n",
    "#unique\n",
    "df['sexo_est_civil'].unique()\n",
    "#dicionário\n",
    "sexo_est_civil ={\n",
    "    'male : single':1,\n",
    "    'female : divorced/separated/married':2,\n",
    "    'male : divorced/separated':3,\n",
    "    'male : married/widowed':4\n",
    "}\n",
    "#map\n",
    "df['sexo_est_civil']=df['sexo_est_civil'].map(sexo_est_civil)"
   ]
  },
  {
   "cell_type": "code",
   "execution_count": 20,
   "metadata": {},
   "outputs": [],
   "source": [
    "#unique\n",
    "df['propriedade'].unique()\n",
    "#dicionário\n",
    "dict_propriedade = {\n",
    "    'real estate':1,\n",
    "    'real estate':2,\n",
    "    'real estate':3,\n",
    "    'if not A121 : building society savings agreeme...\t':4,\n",
    "    'unknown / no property\t':5\n",
    "}\n",
    "#map\n",
    "df[ 'propriedade'] = df['propriedade'].map(dict_cc)"
   ]
  },
  {
   "cell_type": "code",
   "execution_count": 21,
   "metadata": {},
   "outputs": [],
   "source": [
    "df['outros_planos_financiamento'].unique()\n",
    "\n",
    "dict_opf = {\n",
    "    'none':1,\n",
    "    'bank':2,\n",
    "    'stores':3\n",
    "}\n",
    "\n",
    "df['outros_planos_financiamento'] = df['outros_planos_financiamento'].map(dict_opf)"
   ]
  },
  {
   "cell_type": "code",
   "execution_count": 22,
   "metadata": {},
   "outputs": [],
   "source": [
    "#unique\n",
    "df['tipo_residencia'].unique()\n",
    "\n",
    "#dicionário\n",
    "dict_tr = {\n",
    "    'own':1,\n",
    "    'for free':2,\n",
    "    'rent':3,\n",
    "}\n",
    "#map\n",
    "df['tipo_residencia'] =df['tipo_residencia'].map(dict_tr)"
   ]
  },
  {
   "cell_type": "code",
   "execution_count": 23,
   "metadata": {},
   "outputs": [],
   "source": [
    "#unique\n",
    "df['tipo_residencia'].unique()\n",
    "\n",
    "#dicionário\n",
    "dict_tr = {\n",
    "    'own':1,\n",
    "    'for free':2,\n",
    "    'rent':3,\n",
    "}\n",
    "#map\n",
    "df['tipo_residencia'] =df['tipo_residencia'].map(dict_tr)"
   ]
  },
  {
   "cell_type": "code",
   "execution_count": 24,
   "metadata": {},
   "outputs": [],
   "source": [
    "#unique\n",
    "df['telefone'].unique()\n",
    "\n",
    "\n",
    "#dicionário\n",
    "dict_tel = {\n",
    "    'none':0,\n",
    "    'yes, registered under the customers name ':1,\n",
    "}\n",
    "\n",
    "#map\n",
    "df['telefone'] = df['telefone'].map(dict_tel)"
   ]
  },
  {
   "cell_type": "code",
   "execution_count": 25,
   "metadata": {},
   "outputs": [],
   "source": [
    "#unique\n",
    "df['trabalhador_estrangeiro'].unique()\n",
    "\n",
    "#dicionário\n",
    "dict_te = {\n",
    "    'no':0,\n",
    "    'yes':1\n",
    "}\n",
    "\n",
    "#map\n",
    "df['trabalhador_estrangeiro'] = df['trabalhador_estrangeiro'].map(dict_te)"
   ]
  },
  {
   "cell_type": "code",
   "execution_count": 26,
   "metadata": {},
   "outputs": [],
   "source": [
    "df[\"outros_fiadores\"].unique()\n",
    "dict_of = {\n",
    "    \"none\":1,\n",
    "    \"guarantor\":2,\n",
    "    \"co-applicant\":3,\n",
    "}\n",
    "\n",
    "df[\"outros_fiadores\"] = df[\"outros_fiadores\"].map(dict_of)"
   ]
  },
  {
   "cell_type": "code",
   "execution_count": 27,
   "metadata": {},
   "outputs": [],
   "source": [
    "#unique\n",
    "df['tempo_emprego_atual'].unique()\n",
    "\n",
    "#dicionário\n",
    "dict_tea = {\n",
    "    '.. >= 7 years':1,\n",
    "    '1 <= ... < 4 years':2,\n",
    "    '4 <= ... < 7 years':3,\n",
    "    'unemployed':4,\n",
    "    '... < 1 year ':5\n",
    "}\n",
    "#map\n",
    "df['tempo_emprego_atual'] = df['tempo_emprego_atual'].map(dict_tea)\n"
   ]
  },
  {
   "cell_type": "code",
   "execution_count": 28,
   "metadata": {},
   "outputs": [],
   "source": [
    "df['status_emprego'].unique()\n",
    "dict_status_emprego = {\n",
    "    'skilled employee / official':1,\n",
    "    'unskilled - resident':2,\n",
    "    'management/ self-employed/ highly qualified employee/ officer':3,\n",
    "    'unemployed/ unskilled - non-resident':4\n",
    "}\n",
    "df['status_emprego'] = df['status_emprego'].map(dict_status_emprego)"
   ]
  },
  {
   "cell_type": "markdown",
   "metadata": {},
   "source": [
    "# Regressão Logística"
   ]
  },
  {
   "cell_type": "code",
   "execution_count": 29,
   "metadata": {},
   "outputs": [
    {
     "name": "stdout",
     "output_type": "stream",
     "text": [
      "Requirement already satisfied: scikit-learn in c:\\users\\ead\\documents\\rafael\\inteligenciaartificial\\anacondabank_m\\.venv\\lib\\site-packages (1.5.2)\n",
      "Requirement already satisfied: numpy>=1.19.5 in c:\\users\\ead\\documents\\rafael\\inteligenciaartificial\\anacondabank_m\\.venv\\lib\\site-packages (from scikit-learn) (2.1.2)\n",
      "Requirement already satisfied: scipy>=1.6.0 in c:\\users\\ead\\documents\\rafael\\inteligenciaartificial\\anacondabank_m\\.venv\\lib\\site-packages (from scikit-learn) (1.14.1)\n",
      "Requirement already satisfied: joblib>=1.2.0 in c:\\users\\ead\\documents\\rafael\\inteligenciaartificial\\anacondabank_m\\.venv\\lib\\site-packages (from scikit-learn) (1.4.2)\n",
      "Requirement already satisfied: threadpoolctl>=3.1.0 in c:\\users\\ead\\documents\\rafael\\inteligenciaartificial\\anacondabank_m\\.venv\\lib\\site-packages (from scikit-learn) (3.5.0)\n"
     ]
    }
   ],
   "source": [
    "! pip install scikit-learn"
   ]
  }
 ],
 "metadata": {
  "kernelspec": {
   "display_name": ".venv",
   "language": "python",
   "name": "python3"
  },
  "language_info": {
   "codemirror_mode": {
    "name": "ipython",
    "version": 3
   },
   "file_extension": ".py",
   "mimetype": "text/x-python",
   "name": "python",
   "nbconvert_exporter": "python",
   "pygments_lexer": "ipython3",
   "version": "3.12.7"
  }
 },
 "nbformat": 4,
 "nbformat_minor": 2
}
